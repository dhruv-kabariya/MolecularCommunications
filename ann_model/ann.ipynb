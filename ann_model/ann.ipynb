{
  "nbformat": 4,
  "nbformat_minor": 0,
  "metadata": {
    "colab": {
      "name": "ann.ipynb",
      "provenance": [],
      "collapsed_sections": [],
      "toc_visible": true
    },
    "kernelspec": {
      "name": "python3",
      "display_name": "Python 3"
    },
    "language_info": {
      "name": "python"
    }
  },
  "cells": [
    {
      "cell_type": "code",
      "metadata": {
        "id": "7yPfZlo8kYj5"
      },
      "source": [
        "import numpy as np\n",
        "import math\n",
        "from scipy.stats import norm\n",
        "import time\n",
        "import pandas as pd\n",
        "import statsmodels.api as sm\n",
        "from keras.layers import Dense, Dropout, LSTM, Embedding,SimpleRNN\n",
        "from keras.models import Sequential\n",
        "from matplotlib import pyplot as plt\n",
        "\n",
        "%matplotlib inline"
      ],
      "execution_count": null,
      "outputs": []
    },
    {
      "cell_type": "code",
      "metadata": {
        "colab": {
          "resources": {
            "http://localhost:8080/nbextensions/google.colab/files.js": {
              "data": "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",
              "ok": true,
              "headers": [
                [
                  "content-type",
                  "application/javascript"
                ]
              ],
              "status": 200,
              "status_text": ""
            }
          },
          "base_uri": "https://localhost:8080/",
          "height": 73
        },
        "id": "GgfMfLr7kkij",
        "outputId": "e8e49f67-09b8-49fc-f03e-f2b7d617db32"
      },
      "source": [
        "# Transmited label data file\n",
        "from google.colab import files\n",
        "import io\n",
        "#number of receiverd particle\n",
        "uploadedy = files.upload()"
      ],
      "execution_count": null,
      "outputs": [
        {
          "output_type": "display_data",
          "data": {
            "text/html": [
              "\n",
              "     <input type=\"file\" id=\"files-0a1a659c-fbd1-4f43-b825-30dfc25f37ec\" name=\"files[]\" multiple disabled\n",
              "        style=\"border:none\" />\n",
              "     <output id=\"result-0a1a659c-fbd1-4f43-b825-30dfc25f37ec\">\n",
              "      Upload widget is only available when the cell has been executed in the\n",
              "      current browser session. Please rerun this cell to enable.\n",
              "      </output>\n",
              "      <script src=\"/nbextensions/google.colab/files.js\"></script> "
            ],
            "text/plain": [
              "<IPython.core.display.HTML object>"
            ]
          },
          "metadata": {
            "tags": []
          }
        },
        {
          "output_type": "stream",
          "text": [
            "Saving x_y.csv to x_y (2).csv\n"
          ],
          "name": "stdout"
        }
      ]
    },
    {
      "cell_type": "code",
      "metadata": {
        "id": "uJdy_sDsklMr"
      },
      "source": [
        "data = pd.read_csv('x_y.csv')"
      ],
      "execution_count": null,
      "outputs": []
    },
    {
      "cell_type": "code",
      "metadata": {
        "id": "Xwa9T35unvX1"
      },
      "source": [
        "X = data['X']\n",
        "Y = data[\"Y\"]"
      ],
      "execution_count": null,
      "outputs": []
    },
    {
      "cell_type": "code",
      "metadata": {
        "colab": {
          "base_uri": "https://localhost:8080/"
        },
        "id": "4bZIX_RLnz0Q",
        "outputId": "ac6ed9e2-3424-4aba-a75e-0fe8cf6a4682"
      },
      "source": [
        "print(X)"
      ],
      "execution_count": null,
      "outputs": [
        {
          "output_type": "stream",
          "text": [
            "0           0.0\n",
            "1           0.0\n",
            "2           0.0\n",
            "3           0.0\n",
            "4           0.0\n",
            "         ...   \n",
            "5495    19080.0\n",
            "5496    19076.0\n",
            "5497    19154.0\n",
            "5498    19067.0\n",
            "5499    18929.0\n",
            "Name: X, Length: 5500, dtype: float64\n"
          ],
          "name": "stdout"
        }
      ]
    },
    {
      "cell_type": "code",
      "metadata": {
        "id": "reKRDljyn91l"
      },
      "source": [
        "X = np.array(data['X'])\n",
        "X = np.reshape(X, (5500,1))\n",
        "Y = np.array(data['Y'])\n",
        "Y = np.reshape(Y, (5500,1))"
      ],
      "execution_count": null,
      "outputs": []
    },
    {
      "cell_type": "code",
      "metadata": {
        "id": "fyWyIVyDpW9k"
      },
      "source": [
        "from keras.optimizers import Adam\n",
        "model = Sequential()\n",
        "\n",
        "model.add(Dense(5, input_dim=1, activation='tanh'))\n",
        "for i in range(8):\n",
        "  model.add(Dense(5, input_dim=5, activation='tanh'))\n",
        "model.add(Dense(1, input_dim=5, activation='sigmoid'))\n",
        "\n",
        "model.compile(loss='binary_crossentropy',optimizer=Adam(lr=0.01),metrics=['accuracy'])"
      ],
      "execution_count": null,
      "outputs": []
    },
    {
      "cell_type": "code",
      "metadata": {
        "id": "FfLOq6VtqmC9",
        "colab": {
          "base_uri": "https://localhost:8080/"
        },
        "outputId": "b783003f-a92c-4050-8f06-1a85ee3e49b4"
      },
      "source": [
        "mymodel = model.fit(X[:3000],Y[:3000],epochs=50,batch_size=10)\n",
        "scores = model.evaluate(X, Y)\n",
        "print(model.metrics_names)\n",
        "print(scores)"
      ],
      "execution_count": null,
      "outputs": [
        {
          "output_type": "stream",
          "text": [
            "Epoch 1/50\n",
            "300/300 [==============================] - 1s 1ms/step - loss: 0.6901 - accuracy: 0.5463\n",
            "Epoch 2/50\n",
            "300/300 [==============================] - 0s 1ms/step - loss: 0.6860 - accuracy: 0.5597\n",
            "Epoch 3/50\n",
            "300/300 [==============================] - 0s 1ms/step - loss: 0.6858 - accuracy: 0.5648\n",
            "Epoch 4/50\n",
            "300/300 [==============================] - 0s 1ms/step - loss: 0.6853 - accuracy: 0.5685\n",
            "Epoch 5/50\n",
            "300/300 [==============================] - 0s 1ms/step - loss: 0.6872 - accuracy: 0.5589\n",
            "Epoch 6/50\n",
            "300/300 [==============================] - 0s 1ms/step - loss: 0.6840 - accuracy: 0.5748\n",
            "Epoch 7/50\n",
            "300/300 [==============================] - 0s 1ms/step - loss: 0.6838 - accuracy: 0.5765\n",
            "Epoch 8/50\n",
            "300/300 [==============================] - 0s 1ms/step - loss: 0.6850 - accuracy: 0.5707\n",
            "Epoch 9/50\n",
            "300/300 [==============================] - 0s 1ms/step - loss: 0.6804 - accuracy: 0.5851\n",
            "Epoch 10/50\n",
            "300/300 [==============================] - 0s 1ms/step - loss: 0.6872 - accuracy: 0.5601\n",
            "Epoch 11/50\n",
            "300/300 [==============================] - 0s 1ms/step - loss: 0.6873 - accuracy: 0.5622\n",
            "Epoch 12/50\n",
            "300/300 [==============================] - 0s 1ms/step - loss: 0.6863 - accuracy: 0.5595\n",
            "Epoch 13/50\n",
            "300/300 [==============================] - 0s 1ms/step - loss: 0.6871 - accuracy: 0.5582\n",
            "Epoch 14/50\n",
            "300/300 [==============================] - 0s 1ms/step - loss: 0.6862 - accuracy: 0.5626\n",
            "Epoch 15/50\n",
            "300/300 [==============================] - 0s 1ms/step - loss: 0.6851 - accuracy: 0.5656\n",
            "Epoch 16/50\n",
            "300/300 [==============================] - 0s 1ms/step - loss: 0.6846 - accuracy: 0.5627\n",
            "Epoch 17/50\n",
            "300/300 [==============================] - 0s 1ms/step - loss: 0.6843 - accuracy: 0.5675\n",
            "Epoch 18/50\n",
            "300/300 [==============================] - 0s 1ms/step - loss: 0.6827 - accuracy: 0.5702\n",
            "Epoch 19/50\n",
            "300/300 [==============================] - 0s 1ms/step - loss: 0.6850 - accuracy: 0.5654\n",
            "Epoch 20/50\n",
            "300/300 [==============================] - 0s 1ms/step - loss: 0.6837 - accuracy: 0.5697\n",
            "Epoch 21/50\n",
            "300/300 [==============================] - 0s 1ms/step - loss: 0.6832 - accuracy: 0.5722\n",
            "Epoch 22/50\n",
            "300/300 [==============================] - 0s 1ms/step - loss: 0.6866 - accuracy: 0.5613\n",
            "Epoch 23/50\n",
            "300/300 [==============================] - 0s 1ms/step - loss: 0.6888 - accuracy: 0.5485\n",
            "Epoch 24/50\n",
            "300/300 [==============================] - 0s 1ms/step - loss: 0.6866 - accuracy: 0.5618\n",
            "Epoch 25/50\n",
            "300/300 [==============================] - 0s 1ms/step - loss: 0.6860 - accuracy: 0.5534\n",
            "Epoch 26/50\n",
            "300/300 [==============================] - 0s 1ms/step - loss: 0.6892 - accuracy: 0.5471\n",
            "Epoch 27/50\n",
            "300/300 [==============================] - 0s 1ms/step - loss: 0.6852 - accuracy: 0.5691\n",
            "Epoch 28/50\n",
            "300/300 [==============================] - 0s 1ms/step - loss: 0.6863 - accuracy: 0.5653\n",
            "Epoch 29/50\n",
            "300/300 [==============================] - 0s 1ms/step - loss: 0.6846 - accuracy: 0.5688\n",
            "Epoch 30/50\n",
            "300/300 [==============================] - 0s 1ms/step - loss: 0.6848 - accuracy: 0.5677\n",
            "Epoch 31/50\n",
            "300/300 [==============================] - 0s 1ms/step - loss: 0.6869 - accuracy: 0.5582\n",
            "Epoch 32/50\n",
            "300/300 [==============================] - 0s 1ms/step - loss: 0.6861 - accuracy: 0.5576\n",
            "Epoch 33/50\n",
            "300/300 [==============================] - 0s 1ms/step - loss: 0.6858 - accuracy: 0.5621\n",
            "Epoch 34/50\n",
            "300/300 [==============================] - 0s 1ms/step - loss: 0.6840 - accuracy: 0.5684\n",
            "Epoch 35/50\n",
            "300/300 [==============================] - 0s 1ms/step - loss: 0.6866 - accuracy: 0.5653\n",
            "Epoch 36/50\n",
            "300/300 [==============================] - 0s 1ms/step - loss: 0.6832 - accuracy: 0.5714\n",
            "Epoch 37/50\n",
            "300/300 [==============================] - 0s 1ms/step - loss: 0.6891 - accuracy: 0.5519\n",
            "Epoch 38/50\n",
            "300/300 [==============================] - 0s 1ms/step - loss: 0.6880 - accuracy: 0.5505\n",
            "Epoch 39/50\n",
            "300/300 [==============================] - 0s 1ms/step - loss: 0.6924 - accuracy: 0.5334\n",
            "Epoch 40/50\n",
            "300/300 [==============================] - 0s 1ms/step - loss: 0.6896 - accuracy: 0.5517\n",
            "Epoch 41/50\n",
            "300/300 [==============================] - 0s 1ms/step - loss: 0.6812 - accuracy: 0.5817\n",
            "Epoch 42/50\n",
            "300/300 [==============================] - 0s 1ms/step - loss: 0.6861 - accuracy: 0.5633\n",
            "Epoch 43/50\n",
            "300/300 [==============================] - 0s 1ms/step - loss: 0.6882 - accuracy: 0.5550\n",
            "Epoch 44/50\n",
            "300/300 [==============================] - 0s 1ms/step - loss: 0.6848 - accuracy: 0.5526\n",
            "Epoch 45/50\n",
            "300/300 [==============================] - 0s 1ms/step - loss: 0.6900 - accuracy: 0.5488\n",
            "Epoch 46/50\n",
            "300/300 [==============================] - 0s 1ms/step - loss: 0.6887 - accuracy: 0.5511\n",
            "Epoch 47/50\n",
            "300/300 [==============================] - 0s 1ms/step - loss: 0.6890 - accuracy: 0.5493\n",
            "Epoch 48/50\n",
            "300/300 [==============================] - 0s 1ms/step - loss: 0.6864 - accuracy: 0.5619\n",
            "Epoch 49/50\n",
            "300/300 [==============================] - 0s 1ms/step - loss: 0.6882 - accuracy: 0.5528\n",
            "Epoch 50/50\n",
            "300/300 [==============================] - 0s 1ms/step - loss: 0.6876 - accuracy: 0.5580\n",
            "172/172 [==============================] - 0s 1ms/step - loss: 0.6902 - accuracy: 0.5515\n",
            "['loss', 'accuracy']\n",
            "[0.690233051776886, 0.5514545440673828]\n"
          ],
          "name": "stdout"
        }
      ]
    },
    {
      "cell_type": "code",
      "metadata": {
        "colab": {
          "base_uri": "https://localhost:8080/",
          "height": 591
        },
        "id": "0h4i9bzkrYjK",
        "outputId": "eb53c771-39b3-4300-b880-99a8d8e42aa9"
      },
      "source": [
        "print(mymodel.history.keys())\n",
        "# summarize history for accuracy\n",
        "plt.plot(mymodel.history['accuracy'])\n",
        "# plt.plot(mymodel.history['val_accuracy'])\n",
        "plt.title('model accuracy for ANN')\n",
        "plt.ylabel('accuracy')\n",
        "plt.xlabel('epoch')\n",
        "plt.savefig('ann_accu')\n",
        "# plt.legend(['train', 'test'], loc='upper left')\n",
        "plt.show()\n",
        " #summarize history for loss\n",
        "plt.plot(mymodel.history['loss'])\n",
        "# plt.plot(mymodel.history['val_loss'])\n",
        "plt.title('model loss for ANN')\n",
        "plt.ylabel('loss')\n",
        "plt.xlabel('epoch')\n",
        "plt.savefig('ann_loss')\n",
        "# plt.legend(['train', 'test'], loc='upper left')\n",
        "plt.show()"
      ],
      "execution_count": null,
      "outputs": [
        {
          "output_type": "stream",
          "text": [
            "dict_keys(['loss', 'accuracy'])\n"
          ],
          "name": "stdout"
        },
        {
          "output_type": "display_data",
          "data": {
            "image/png": "[encoded data removed]",
            "text/plain": [
              "<Figure size 432x288 with 1 Axes>"
            ]
          },
          "metadata": {
            "tags": [],
            "needs_background": "light"
          }
        },
        {
          "output_type": "display_data",
          "data": {
            "image/png": "[encoded data removed]",
            "text/plain": [
              "<Figure size 432x288 with 1 Axes>"
            ]
          },
          "metadata": {
            "tags": [],
            "needs_background": "light"
          }
        }
      ]
    },
    {
      "cell_type": "code",
      "metadata": {
        "colab": {
          "base_uri": "https://localhost:8080/",
          "height": 1000
        },
        "id": "OxgVHYjPtJ2k",
        "outputId": "1f961884-0882-4120-f19e-b46cfe99b94c"
      },
      "source": [
        "pd_FM = {}\n",
        "idx=0\n",
        "X_FM_lb=[]\n",
        "for snr in range(-5, 50, 1):\n",
        "  X_FM_lb.append(X[idx:idx+100])\n",
        "  idx=idx+100\n",
        "\n",
        "#print(X_FM_lb)\n",
        "\n",
        "\n",
        "for snr in range(-5, 50, 1):\n",
        "  y_snr = np.ones((X_FM_lb[snr+5].shape[0], 1))\n",
        "  scores = model.evaluate(X_FM_lb[snr+5], y_snr)\n",
        "  # print(scores)\n",
        "  print(\"At SNR = \" + str(snr) + \"\\n%s: %.2f%%\" % (model.metrics_names[1], scores[1]*100))\n",
        "  pd_FM[snr] =(1- scores[1])/2\n",
        "  \n",
        "plt.plot(range(-5, 50, 1), list(pd_FM.values()))\n",
        "\n",
        "# printing the graph\n",
        "plt.yscale('log')\n",
        "plt.xlabel('SNR Range')\n",
        "plt.ylabel('BER')\n",
        "plt.grid()\n",
        "plt.savefig('ann_orig')\n",
        "plt.legend(loc='upper right',ncol = 1)\n",
        "plt.savefig('snip')\n",
        "plt.show()"
      ],
      "execution_count": null,
      "outputs": [
        {
          "output_type": "stream",
          "text": [
            "4/4 [==============================] - 0s 4ms/step - loss: 0.7075 - accuracy: 0.1500\n",
            "At SNR = -5\n",
            "accuracy: 15.00%\n",
            "4/4 [==============================] - 0s 3ms/step - loss: 0.7080 - accuracy: 0.1400\n",
            "At SNR = -4\n",
            "accuracy: 14.00%\n",
            "4/4 [==============================] - 0s 3ms/step - loss: 0.7034 - accuracy: 0.2200\n",
            "At SNR = -3\n",
            "accuracy: 22.00%\n",
            "4/4 [==============================] - 0s 3ms/step - loss: 0.7069 - accuracy: 0.1600\n",
            "At SNR = -2\n",
            "accuracy: 16.00%\n",
            "4/4 [==============================] - 0s 3ms/step - loss: 0.7011 - accuracy: 0.2600\n",
            "At SNR = -1\n",
            "accuracy: 26.00%\n",
            "4/4 [==============================] - 0s 3ms/step - loss: 0.6977 - accuracy: 0.3200\n",
            "At SNR = 0\n",
            "accuracy: 32.00%\n",
            "4/4 [==============================] - 0s 3ms/step - loss: 0.6902 - accuracy: 0.4500\n",
            "At SNR = 1\n",
            "accuracy: 45.00%\n",
            "4/4 [==============================] - 0s 4ms/step - loss: 0.6879 - accuracy: 0.4900\n",
            "At SNR = 2\n",
            "accuracy: 49.00%\n",
            "4/4 [==============================] - 0s 3ms/step - loss: 0.6873 - accuracy: 0.5000\n",
            "At SNR = 3\n",
            "accuracy: 50.00%\n",
            "4/4 [==============================] - 0s 3ms/step - loss: 0.6844 - accuracy: 0.5500\n",
            "At SNR = 4\n",
            "accuracy: 55.00%\n",
            "4/4 [==============================] - 0s 3ms/step - loss: 0.6787 - accuracy: 0.6500\n",
            "At SNR = 5\n",
            "accuracy: 65.00%\n",
            "4/4 [==============================] - 0s 3ms/step - loss: 0.6764 - accuracy: 0.6900\n",
            "At SNR = 6\n",
            "accuracy: 69.00%\n",
            "4/4 [==============================] - 0s 3ms/step - loss: 0.6758 - accuracy: 0.7000\n",
            "At SNR = 7\n",
            "accuracy: 70.00%\n",
            "4/4 [==============================] - 0s 3ms/step - loss: 0.6631 - accuracy: 0.9200\n",
            "At SNR = 8\n",
            "accuracy: 92.00%\n",
            "4/4 [==============================] - 0s 3ms/step - loss: 0.6672 - accuracy: 0.8500\n",
            "At SNR = 9\n",
            "accuracy: 85.00%\n",
            "4/4 [==============================] - 0s 4ms/step - loss: 0.6597 - accuracy: 0.9800\n",
            "At SNR = 10\n",
            "accuracy: 98.00%\n",
            "4/4 [==============================] - 0s 4ms/step - loss: 0.6620 - accuracy: 0.9400\n",
            "At SNR = 11\n",
            "accuracy: 94.00%\n",
            "4/4 [==============================] - 0s 5ms/step - loss: 0.6585 - accuracy: 1.0000\n",
            "At SNR = 12\n",
            "accuracy: 100.00%\n",
            "4/4 [==============================] - 0s 3ms/step - loss: 0.6585 - accuracy: 1.0000\n",
            "At SNR = 13\n",
            "accuracy: 100.00%\n",
            "4/4 [==============================] - 0s 3ms/step - loss: 0.6585 - accuracy: 1.0000\n",
            "At SNR = 14\n",
            "accuracy: 100.00%\n",
            "4/4 [==============================] - 0s 3ms/step - loss: 0.6585 - accuracy: 1.0000\n",
            "At SNR = 15\n",
            "accuracy: 100.00%\n",
            "4/4 [==============================] - 0s 3ms/step - loss: 0.6585 - accuracy: 1.0000\n",
            "At SNR = 16\n",
            "accuracy: 100.00%\n",
            "4/4 [==============================] - 0s 3ms/step - loss: 0.6585 - accuracy: 1.0000\n",
            "At SNR = 17\n",
            "accuracy: 100.00%\n",
            "4/4 [==============================] - 0s 3ms/step - loss: 0.6585 - accuracy: 1.0000\n",
            "At SNR = 18\n",
            "accuracy: 100.00%\n",
            "4/4 [==============================] - 0s 3ms/step - loss: 0.6585 - accuracy: 1.0000\n",
            "At SNR = 19\n",
            "accuracy: 100.00%\n",
            "4/4 [==============================] - 0s 3ms/step - loss: 0.6585 - accuracy: 1.0000\n",
            "At SNR = 20\n",
            "accuracy: 100.00%\n",
            "4/4 [==============================] - 0s 3ms/step - loss: 0.6585 - accuracy: 1.0000\n",
            "At SNR = 21\n",
            "accuracy: 100.00%\n",
            "4/4 [==============================] - 0s 4ms/step - loss: 0.6585 - accuracy: 1.0000\n",
            "At SNR = 22\n",
            "accuracy: 100.00%\n",
            "4/4 [==============================] - 0s 3ms/step - loss: 0.6585 - accuracy: 1.0000\n",
            "At SNR = 23\n",
            "accuracy: 100.00%\n",
            "4/4 [==============================] - 0s 3ms/step - loss: 0.6585 - accuracy: 1.0000\n",
            "At SNR = 24\n",
            "accuracy: 100.00%\n",
            "4/4 [==============================] - 0s 3ms/step - loss: 0.6585 - accuracy: 1.0000\n",
            "At SNR = 25\n",
            "accuracy: 100.00%\n",
            "4/4 [==============================] - 0s 3ms/step - loss: 0.6585 - accuracy: 1.0000\n",
            "At SNR = 26\n",
            "accuracy: 100.00%\n",
            "4/4 [==============================] - 0s 7ms/step - loss: 0.6585 - accuracy: 1.0000\n",
            "At SNR = 27\n",
            "accuracy: 100.00%\n",
            "4/4 [==============================] - 0s 3ms/step - loss: 0.6585 - accuracy: 1.0000\n",
            "At SNR = 28\n",
            "accuracy: 100.00%\n",
            "4/4 [==============================] - 0s 3ms/step - loss: 0.6585 - accuracy: 1.0000\n",
            "At SNR = 29\n",
            "accuracy: 100.00%\n",
            "4/4 [==============================] - 0s 3ms/step - loss: 0.6585 - accuracy: 1.0000\n",
            "At SNR = 30\n",
            "accuracy: 100.00%\n",
            "4/4 [==============================] - 0s 3ms/step - loss: 0.6585 - accuracy: 1.0000\n",
            "At SNR = 31\n",
            "accuracy: 100.00%\n",
            "4/4 [==============================] - 0s 3ms/step - loss: 0.6585 - accuracy: 1.0000\n",
            "At SNR = 32\n",
            "accuracy: 100.00%\n",
            "4/4 [==============================] - 0s 3ms/step - loss: 0.6585 - accuracy: 1.0000\n",
            "At SNR = 33\n",
            "accuracy: 100.00%\n",
            "4/4 [==============================] - 0s 3ms/step - loss: 0.6585 - accuracy: 1.0000\n",
            "At SNR = 34\n",
            "accuracy: 100.00%\n",
            "4/4 [==============================] - 0s 7ms/step - loss: 0.6585 - accuracy: 1.0000\n",
            "At SNR = 35\n",
            "accuracy: 100.00%\n",
            "4/4 [==============================] - 0s 3ms/step - loss: 0.6585 - accuracy: 1.0000\n",
            "At SNR = 36\n",
            "accuracy: 100.00%\n",
            "4/4 [==============================] - 0s 3ms/step - loss: 0.6585 - accuracy: 1.0000\n",
            "At SNR = 37\n",
            "accuracy: 100.00%\n",
            "4/4 [==============================] - 0s 3ms/step - loss: 0.6585 - accuracy: 1.0000\n",
            "At SNR = 38\n",
            "accuracy: 100.00%\n",
            "4/4 [==============================] - 0s 4ms/step - loss: 0.6585 - accuracy: 1.0000\n",
            "At SNR = 39\n",
            "accuracy: 100.00%\n",
            "4/4 [==============================] - 0s 3ms/step - loss: 0.6585 - accuracy: 1.0000\n",
            "At SNR = 40\n",
            "accuracy: 100.00%\n",
            "4/4 [==============================] - 0s 3ms/step - loss: 0.6585 - accuracy: 1.0000\n",
            "At SNR = 41\n",
            "accuracy: 100.00%\n",
            "4/4 [==============================] - 0s 3ms/step - loss: 0.6585 - accuracy: 1.0000\n",
            "At SNR = 42\n",
            "accuracy: 100.00%\n",
            "4/4 [==============================] - 0s 4ms/step - loss: 0.6585 - accuracy: 1.0000\n",
            "At SNR = 43\n",
            "accuracy: 100.00%\n",
            "4/4 [==============================] - 0s 3ms/step - loss: 0.6585 - accuracy: 1.0000\n",
            "At SNR = 44\n",
            "accuracy: 100.00%\n",
            "4/4 [==============================] - 0s 3ms/step - loss: 0.6585 - accuracy: 1.0000\n",
            "At SNR = 45\n",
            "accuracy: 100.00%\n",
            "4/4 [==============================] - 0s 6ms/step - loss: 0.6585 - accuracy: 1.0000\n",
            "At SNR = 46\n",
            "accuracy: 100.00%\n",
            "4/4 [==============================] - 0s 3ms/step - loss: 0.6585 - accuracy: 1.0000\n",
            "At SNR = 47\n",
            "accuracy: 100.00%\n",
            "4/4 [==============================] - 0s 3ms/step - loss: 0.6585 - accuracy: 1.0000\n",
            "At SNR = 48\n",
            "accuracy: 100.00%\n",
            "4/4 [==============================] - 0s 3ms/step - loss: 0.6585 - accuracy: 1.0000\n",
            "At SNR = 49\n",
            "accuracy: 100.00%\n"
          ],
          "name": "stdout"
        },
        {
          "output_type": "stream",
          "text": [
            "No handles with labels found to put in legend.\n"
          ],
          "name": "stderr"
        },
        {
          "output_type": "display_data",
          "data": {
            "image/png": "[encoded data removed]",
            "text/plain": [
              "<Figure size 432x288 with 1 Axes>"
            ]
          },
          "metadata": {
            "tags": [],
            "needs_background": "light"
          }
        }
      ]
    },
    {
      "cell_type": "code",
      "metadata": {
        "id": "UKHqHB9G8BnB"
      },
      "source": [
        ""
      ],
      "execution_count": null,
      "outputs": []
    },
    {
      "cell_type": "markdown",
      "metadata": {
        "id": "o_ZS22sx8CoP"
      },
      "source": [
        "# Innovation : Implementation of RNN ( layer: 5, perceptron: 10)"
      ]
    },
    {
      "cell_type": "code",
      "metadata": {
        "colab": {
          "base_uri": "https://localhost:8080/"
        },
        "id": "eNlrVLRr3reF",
        "outputId": "b6f3c4b5-5cc9-4acc-ca62-7664936e3483"
      },
      "source": [
        "from tensorflow.keras.layers import SimpleRNN,Bidirectional,GRU\n",
        "\n",
        "np.reshape(X, (-1,1))\n",
        "np.reshape(Y, (-1,1))\n",
        "\n",
        "print(X.shape)\n",
        "\n",
        "rnn_model =Sequential()\n",
        "\n",
        "rnn_model = Sequential()\n",
        "rnn_model.add(Embedding(int(X.max())+500, 1, input_length=1))\n",
        "\n",
        "rnn_model.add(SimpleRNN(10,activation='relu'))\n",
        "\n",
        "\n",
        "\n",
        "rnn_model.add(Dense(1, activation='sigmoid'))\n",
        "rnn_model.compile(loss='binary_crossentropy', optimizer='adam', metrics=['accuracy'])\n",
        "print(rnn_model.summary())\n",
        "model.compile(loss='binary_crossentropy',optimizer=Adam(lr=0.01),metrics=['accuracy'])"
      ],
      "execution_count": null,
      "outputs": [
        {
          "output_type": "stream",
          "text": [
            "(5500, 1)\n",
            "Model: \"sequential_48\"\n",
            "_________________________________________________________________\n",
            "Layer (type)                 Output Shape              Param #   \n",
            "=================================================================\n",
            "embedding_21 (Embedding)     (None, 1, 1)              19860     \n",
            "_________________________________________________________________\n",
            "simple_rnn_18 (SimpleRNN)    (None, 10)                120       \n",
            "_________________________________________________________________\n",
            "dense_46 (Dense)             (None, 1)                 11        \n",
            "=================================================================\n",
            "Total params: 19,991\n",
            "Trainable params: 19,991\n",
            "Non-trainable params: 0\n",
            "_________________________________________________________________\n",
            "None\n"
          ],
          "name": "stdout"
        }
      ]
    },
    {
      "cell_type": "code",
      "metadata": {
        "colab": {
          "base_uri": "https://localhost:8080/"
        },
        "id": "GqEqu8CPBfG4",
        "outputId": "5c36b424-91df-446f-a10d-e159463b8f2c"
      },
      "source": [
        "my_rnn_model = rnn_model.fit(X,Y,validation_split=0.3,epochs=50,batch_size=10)\n",
        "scores = rnn_model.evaluate(X, Y)\n",
        "print(model.metrics_names)\n",
        "print(scores)"
      ],
      "execution_count": null,
      "outputs": [
        {
          "output_type": "stream",
          "text": [
            "Epoch 1/50\n",
            "385/385 [==============================] - 2s 3ms/step - loss: 0.6914 - accuracy: 0.5413 - val_loss: 0.6902 - val_accuracy: 0.5421\n",
            "Epoch 2/50\n",
            "385/385 [==============================] - 1s 2ms/step - loss: 0.6854 - accuracy: 0.5503 - val_loss: 0.6911 - val_accuracy: 0.5421\n",
            "Epoch 3/50\n",
            "385/385 [==============================] - 1s 2ms/step - loss: 0.6776 - accuracy: 0.5765 - val_loss: 0.6921 - val_accuracy: 0.5409\n",
            "Epoch 4/50\n",
            "385/385 [==============================] - 1s 2ms/step - loss: 0.6725 - accuracy: 0.5914 - val_loss: 0.6940 - val_accuracy: 0.5415\n",
            "Epoch 5/50\n",
            "385/385 [==============================] - 1s 2ms/step - loss: 0.6626 - accuracy: 0.6074 - val_loss: 0.6938 - val_accuracy: 0.5118\n",
            "Epoch 6/50\n",
            "385/385 [==============================] - 1s 2ms/step - loss: 0.6599 - accuracy: 0.6048 - val_loss: 0.6950 - val_accuracy: 0.5106\n",
            "Epoch 7/50\n",
            "385/385 [==============================] - 1s 2ms/step - loss: 0.6569 - accuracy: 0.6100 - val_loss: 0.6958 - val_accuracy: 0.5136\n",
            "Epoch 8/50\n",
            "385/385 [==============================] - 1s 2ms/step - loss: 0.6528 - accuracy: 0.6073 - val_loss: 0.6969 - val_accuracy: 0.5058\n",
            "Epoch 9/50\n",
            "385/385 [==============================] - 1s 2ms/step - loss: 0.6464 - accuracy: 0.6232 - val_loss: 0.6976 - val_accuracy: 0.5118\n",
            "Epoch 10/50\n",
            "385/385 [==============================] - 1s 2ms/step - loss: 0.6416 - accuracy: 0.6168 - val_loss: 0.6984 - val_accuracy: 0.5015\n",
            "Epoch 11/50\n",
            "385/385 [==============================] - 1s 2ms/step - loss: 0.6458 - accuracy: 0.6134 - val_loss: 0.6990 - val_accuracy: 0.5015\n",
            "Epoch 12/50\n",
            "385/385 [==============================] - 1s 2ms/step - loss: 0.6355 - accuracy: 0.6199 - val_loss: 0.6999 - val_accuracy: 0.5003\n",
            "Epoch 13/50\n",
            "385/385 [==============================] - 1s 2ms/step - loss: 0.6348 - accuracy: 0.6194 - val_loss: 0.6998 - val_accuracy: 0.5021\n",
            "Epoch 14/50\n",
            "385/385 [==============================] - 1s 2ms/step - loss: 0.6359 - accuracy: 0.6212 - val_loss: 0.7013 - val_accuracy: 0.4942\n",
            "Epoch 15/50\n",
            "385/385 [==============================] - 1s 2ms/step - loss: 0.6356 - accuracy: 0.6127 - val_loss: 0.7014 - val_accuracy: 0.4985\n",
            "Epoch 16/50\n",
            "385/385 [==============================] - 1s 2ms/step - loss: 0.6302 - accuracy: 0.6212 - val_loss: 0.7013 - val_accuracy: 0.5045\n",
            "Epoch 17/50\n",
            "385/385 [==============================] - 1s 2ms/step - loss: 0.6363 - accuracy: 0.6055 - val_loss: 0.7011 - val_accuracy: 0.5045\n",
            "Epoch 18/50\n",
            "385/385 [==============================] - 1s 2ms/step - loss: 0.6423 - accuracy: 0.6016 - val_loss: 0.7014 - val_accuracy: 0.5021\n",
            "Epoch 19/50\n",
            "385/385 [==============================] - 1s 2ms/step - loss: 0.6312 - accuracy: 0.6136 - val_loss: 0.7018 - val_accuracy: 0.5039\n",
            "Epoch 20/50\n",
            "385/385 [==============================] - 1s 2ms/step - loss: 0.6391 - accuracy: 0.6104 - val_loss: 0.7018 - val_accuracy: 0.5009\n",
            "Epoch 21/50\n",
            "385/385 [==============================] - 1s 2ms/step - loss: 0.6302 - accuracy: 0.6094 - val_loss: 0.7051 - val_accuracy: 0.4900\n",
            "Epoch 22/50\n",
            "385/385 [==============================] - 1s 2ms/step - loss: 0.6299 - accuracy: 0.6142 - val_loss: 0.7019 - val_accuracy: 0.5088\n",
            "Epoch 23/50\n",
            "385/385 [==============================] - 1s 2ms/step - loss: 0.6301 - accuracy: 0.6106 - val_loss: 0.7022 - val_accuracy: 0.5039\n",
            "Epoch 24/50\n",
            "385/385 [==============================] - 1s 2ms/step - loss: 0.6293 - accuracy: 0.6239 - val_loss: 0.7021 - val_accuracy: 0.5118\n",
            "Epoch 25/50\n",
            "385/385 [==============================] - 1s 2ms/step - loss: 0.6267 - accuracy: 0.6159 - val_loss: 0.7030 - val_accuracy: 0.5027\n",
            "Epoch 26/50\n",
            "385/385 [==============================] - 1s 2ms/step - loss: 0.6339 - accuracy: 0.6024 - val_loss: 0.7033 - val_accuracy: 0.4985\n",
            "Epoch 27/50\n",
            "385/385 [==============================] - 1s 2ms/step - loss: 0.6277 - accuracy: 0.6122 - val_loss: 0.7023 - val_accuracy: 0.5082\n",
            "Epoch 28/50\n",
            "385/385 [==============================] - 1s 2ms/step - loss: 0.6433 - accuracy: 0.5970 - val_loss: 0.7027 - val_accuracy: 0.5027\n",
            "Epoch 29/50\n",
            "385/385 [==============================] - 1s 2ms/step - loss: 0.6369 - accuracy: 0.6064 - val_loss: 0.7028 - val_accuracy: 0.5094\n",
            "Epoch 30/50\n",
            "385/385 [==============================] - 1s 2ms/step - loss: 0.6333 - accuracy: 0.6048 - val_loss: 0.7029 - val_accuracy: 0.5070\n",
            "Epoch 31/50\n",
            "385/385 [==============================] - 1s 2ms/step - loss: 0.6301 - accuracy: 0.6049 - val_loss: 0.7028 - val_accuracy: 0.5064\n",
            "Epoch 32/50\n",
            "385/385 [==============================] - 1s 2ms/step - loss: 0.6373 - accuracy: 0.5913 - val_loss: 0.7031 - val_accuracy: 0.5021\n",
            "Epoch 33/50\n",
            "385/385 [==============================] - 1s 2ms/step - loss: 0.6350 - accuracy: 0.6042 - val_loss: 0.7048 - val_accuracy: 0.4924\n",
            "Epoch 34/50\n",
            "385/385 [==============================] - 1s 2ms/step - loss: 0.6384 - accuracy: 0.5907 - val_loss: 0.7032 - val_accuracy: 0.5100\n",
            "Epoch 35/50\n",
            "385/385 [==============================] - 1s 2ms/step - loss: 0.6282 - accuracy: 0.6119 - val_loss: 0.7030 - val_accuracy: 0.5082\n",
            "Epoch 36/50\n",
            "385/385 [==============================] - 1s 2ms/step - loss: 0.6352 - accuracy: 0.5990 - val_loss: 0.7032 - val_accuracy: 0.5058\n",
            "Epoch 37/50\n",
            "385/385 [==============================] - 1s 2ms/step - loss: 0.6273 - accuracy: 0.6082 - val_loss: 0.7031 - val_accuracy: 0.5064\n",
            "Epoch 38/50\n",
            "385/385 [==============================] - 1s 2ms/step - loss: 0.6244 - accuracy: 0.6209 - val_loss: 0.7032 - val_accuracy: 0.5112\n",
            "Epoch 39/50\n",
            "385/385 [==============================] - 1s 2ms/step - loss: 0.6298 - accuracy: 0.6146 - val_loss: 0.7034 - val_accuracy: 0.5124\n",
            "Epoch 40/50\n",
            "385/385 [==============================] - 1s 2ms/step - loss: 0.6404 - accuracy: 0.5928 - val_loss: 0.7033 - val_accuracy: 0.5106\n",
            "Epoch 41/50\n",
            "385/385 [==============================] - 1s 2ms/step - loss: 0.6334 - accuracy: 0.5941 - val_loss: 0.7051 - val_accuracy: 0.4936\n",
            "Epoch 42/50\n",
            "385/385 [==============================] - 1s 2ms/step - loss: 0.6312 - accuracy: 0.6205 - val_loss: 0.7034 - val_accuracy: 0.5070\n",
            "Epoch 43/50\n",
            "385/385 [==============================] - 1s 2ms/step - loss: 0.6388 - accuracy: 0.6013 - val_loss: 0.7033 - val_accuracy: 0.5082\n",
            "Epoch 44/50\n",
            "385/385 [==============================] - 1s 2ms/step - loss: 0.6274 - accuracy: 0.6147 - val_loss: 0.7034 - val_accuracy: 0.5076\n",
            "Epoch 45/50\n",
            "385/385 [==============================] - 1s 2ms/step - loss: 0.6296 - accuracy: 0.6156 - val_loss: 0.7036 - val_accuracy: 0.5021\n",
            "Epoch 46/50\n",
            "385/385 [==============================] - 1s 2ms/step - loss: 0.6265 - accuracy: 0.6077 - val_loss: 0.7046 - val_accuracy: 0.4991\n",
            "Epoch 47/50\n",
            "385/385 [==============================] - 1s 2ms/step - loss: 0.6407 - accuracy: 0.5978 - val_loss: 0.7042 - val_accuracy: 0.5161\n",
            "Epoch 48/50\n",
            "385/385 [==============================] - 1s 2ms/step - loss: 0.6295 - accuracy: 0.6082 - val_loss: 0.7036 - val_accuracy: 0.5058\n",
            "Epoch 49/50\n",
            "385/385 [==============================] - 1s 2ms/step - loss: 0.6267 - accuracy: 0.6197 - val_loss: 0.7040 - val_accuracy: 0.5064\n",
            "Epoch 50/50\n",
            "385/385 [==============================] - 1s 2ms/step - loss: 0.6279 - accuracy: 0.6123 - val_loss: 0.7036 - val_accuracy: 0.5100\n",
            "172/172 [==============================] - 0s 1ms/step - loss: 0.6502 - accuracy: 0.5842\n",
            "[]\n",
            "[0.650156557559967, 0.5841818451881409]\n"
          ],
          "name": "stdout"
        }
      ]
    },
    {
      "cell_type": "code",
      "metadata": {
        "colab": {
          "base_uri": "https://localhost:8080/",
          "height": 591
        },
        "id": "Lx1psBX_Cj2w",
        "outputId": "ae5ed390-d91a-4924-baf8-6057d5f72da7"
      },
      "source": [
        "print(my_rnn_model.history.keys())\n",
        "# summarize history for accuracy\n",
        "plt.plot(my_rnn_model.history['accuracy'])\n",
        "plt.plot(my_rnn_model.history['val_accuracy'])\n",
        "plt.title('model accuracy')\n",
        "plt.ylabel('accuracy')\n",
        "plt.xlabel('epoch')\n",
        "plt.savefig('snip2')\n",
        "plt.legend(['train', 'test'], loc='upper left')\n",
        "plt.show()\n",
        " #summarize history for loss\n",
        "plt.plot(my_rnn_model.history['loss'])\n",
        "plt.plot(my_rnn_model.history['val_loss'])\n",
        "plt.title('model loss')\n",
        "plt.ylabel('loss')\n",
        "plt.xlabel('epoch')\n",
        "plt.savefig('snip1')\n",
        "plt.legend(['train', 'test'], loc='upper left')\n",
        "plt.show()"
      ],
      "execution_count": null,
      "outputs": [
        {
          "output_type": "stream",
          "text": [
            "dict_keys(['loss', 'accuracy', 'val_loss', 'val_accuracy'])\n"
          ],
          "name": "stdout"
        },
        {
          "output_type": "display_data",
          "data": {
            "image/png": "[encoded data removed]",
            "text/plain": [
              "<Figure size 432x288 with 1 Axes>"
            ]
          },
          "metadata": {
            "tags": [],
            "needs_background": "light"
          }
        },
        {
          "output_type": "display_data",
          "data": {
            "image/png": "[encoded data removed]",
            "text/plain": [
              "<Figure size 432x288 with 1 Axes>"
            ]
          },
          "metadata": {
            "tags": [],
            "needs_background": "light"
          }
        }
      ]
    },
    {
      "cell_type": "code",
      "metadata": {
        "colab": {
          "base_uri": "https://localhost:8080/",
          "height": 1000
        },
        "id": "8D786UcrFet4",
        "outputId": "5974711e-1d91-4923-9452-4ae1ae306ce7"
      },
      "source": [
        "pd_FM = {}\n",
        "idx=0\n",
        "X_FM_lb=[]\n",
        "for snr in range(-5, 46, 1):\n",
        "  X_FM_lb.append(X[idx:idx+100]) # Here we are using difference of 100\n",
        "  idx=idx+100\n",
        "\n",
        "print(len(X_FM_lb))\n",
        "\n",
        "\n",
        "for snr in range(-5, 46, 1):\n",
        "  y_snr = np.ones((X_FM_lb[snr].shape[0], 1))\n",
        "  scores = rnn_model.evaluate(X_FM_lb[snr+5], y_snr)\n",
        "  print(\"At SNR = \" + str(snr) + \"\\n%s: %.2f%%\" % (rnn_model.metrics_names[1], scores[1]*100))\n",
        "  pd_FM[snr] =(1- scores[1])/2\n",
        "  \n",
        "plt.plot(range(-5, 46, 1), list(pd_FM.values())) #setting the range of the BER\n",
        "\n",
        "\n",
        "plt.yscale('log')\n",
        "plt.xlabel('SNR Range')\n",
        "plt.ylabel('BER')\n",
        "plt.grid()\n",
        "plt.legend(loc='upper right',ncol = 1)\n",
        "plt.savefig('snip')\n",
        "plt.show()"
      ],
      "execution_count": null,
      "outputs": [
        {
          "output_type": "stream",
          "text": [
            "51\n",
            "4/4 [==============================] - 0s 5ms/step - loss: 0.7167 - accuracy: 0.1500\n",
            "At SNR = -5\n",
            "accuracy: 15.00%\n",
            "4/4 [==============================] - 0s 3ms/step - loss: 0.7192 - accuracy: 0.1400\n",
            "At SNR = -4\n",
            "accuracy: 14.00%\n",
            "4/4 [==============================] - 0s 4ms/step - loss: 0.6988 - accuracy: 0.2200\n",
            "At SNR = -3\n",
            "accuracy: 22.00%\n",
            "4/4 [==============================] - 0s 3ms/step - loss: 0.7128 - accuracy: 0.1600\n",
            "At SNR = -2\n",
            "accuracy: 16.00%\n",
            "4/4 [==============================] - 0s 3ms/step - loss: 0.6892 - accuracy: 0.2600\n",
            "At SNR = -1\n",
            "accuracy: 26.00%\n",
            "4/4 [==============================] - 0s 4ms/step - loss: 0.6711 - accuracy: 0.3200\n",
            "At SNR = 0\n",
            "accuracy: 32.00%\n",
            "4/4 [==============================] - 0s 3ms/step - loss: 0.6407 - accuracy: 0.4400\n",
            "At SNR = 1\n",
            "accuracy: 44.00%\n",
            "4/4 [==============================] - 0s 3ms/step - loss: 0.6322 - accuracy: 0.4800\n",
            "At SNR = 2\n",
            "accuracy: 48.00%\n",
            "4/4 [==============================] - 0s 3ms/step - loss: 0.6312 - accuracy: 0.4800\n",
            "At SNR = 3\n",
            "accuracy: 48.00%\n",
            "4/4 [==============================] - 0s 3ms/step - loss: 0.6223 - accuracy: 0.5100\n",
            "At SNR = 4\n",
            "accuracy: 51.00%\n",
            "4/4 [==============================] - 0s 3ms/step - loss: 0.5973 - accuracy: 0.5900\n",
            "At SNR = 5\n",
            "accuracy: 59.00%\n",
            "4/4 [==============================] - 0s 3ms/step - loss: 0.5923 - accuracy: 0.6100\n",
            "At SNR = 6\n",
            "accuracy: 61.00%\n",
            "4/4 [==============================] - 0s 3ms/step - loss: 0.5984 - accuracy: 0.6000\n",
            "At SNR = 7\n",
            "accuracy: 60.00%\n",
            "4/4 [==============================] - 0s 3ms/step - loss: 0.5675 - accuracy: 0.7100\n",
            "At SNR = 8\n",
            "accuracy: 71.00%\n",
            "4/4 [==============================] - 0s 3ms/step - loss: 0.5750 - accuracy: 0.6900\n",
            "At SNR = 9\n",
            "accuracy: 69.00%\n",
            "4/4 [==============================] - 0s 3ms/step - loss: 0.5425 - accuracy: 0.8000\n",
            "At SNR = 10\n",
            "accuracy: 80.00%\n",
            "4/4 [==============================] - 0s 3ms/step - loss: 0.5618 - accuracy: 0.7100\n",
            "At SNR = 11\n",
            "accuracy: 71.00%\n",
            "4/4 [==============================] - 0s 4ms/step - loss: 0.5562 - accuracy: 0.7800\n",
            "At SNR = 12\n",
            "accuracy: 78.00%\n",
            "4/4 [==============================] - 0s 3ms/step - loss: 0.5167 - accuracy: 0.8600\n",
            "At SNR = 13\n",
            "accuracy: 86.00%\n",
            "4/4 [==============================] - 0s 3ms/step - loss: 0.5242 - accuracy: 0.8200\n",
            "At SNR = 14\n",
            "accuracy: 82.00%\n",
            "4/4 [==============================] - 0s 3ms/step - loss: 0.5683 - accuracy: 0.7700\n",
            "At SNR = 15\n",
            "accuracy: 77.00%\n",
            "4/4 [==============================] - 0s 3ms/step - loss: 0.5786 - accuracy: 0.6700\n",
            "At SNR = 16\n",
            "accuracy: 67.00%\n",
            "4/4 [==============================] - 0s 3ms/step - loss: 0.6113 - accuracy: 0.6200\n",
            "At SNR = 17\n",
            "accuracy: 62.00%\n",
            "4/4 [==============================] - 0s 3ms/step - loss: 0.6078 - accuracy: 0.6700\n",
            "At SNR = 18\n",
            "accuracy: 67.00%\n",
            "4/4 [==============================] - 0s 4ms/step - loss: 0.5524 - accuracy: 0.7900\n",
            "At SNR = 19\n",
            "accuracy: 79.00%\n",
            "4/4 [==============================] - 0s 3ms/step - loss: 0.5642 - accuracy: 0.7500\n",
            "At SNR = 20\n",
            "accuracy: 75.00%\n",
            "4/4 [==============================] - 0s 3ms/step - loss: 0.6215 - accuracy: 0.6700\n",
            "At SNR = 21\n",
            "accuracy: 67.00%\n",
            "4/4 [==============================] - 0s 4ms/step - loss: 0.6146 - accuracy: 0.6800\n",
            "At SNR = 22\n",
            "accuracy: 68.00%\n",
            "4/4 [==============================] - 0s 3ms/step - loss: 0.6273 - accuracy: 0.6500\n",
            "At SNR = 23\n",
            "accuracy: 65.00%\n",
            "4/4 [==============================] - 0s 3ms/step - loss: 0.6798 - accuracy: 0.5500\n",
            "At SNR = 24\n",
            "accuracy: 55.00%\n",
            "4/4 [==============================] - 0s 3ms/step - loss: 0.6349 - accuracy: 0.7500\n",
            "At SNR = 25\n",
            "accuracy: 75.00%\n",
            "4/4 [==============================] - 0s 3ms/step - loss: 0.7351 - accuracy: 0.7500\n",
            "At SNR = 26\n",
            "accuracy: 75.00%\n",
            "4/4 [==============================] - 0s 3ms/step - loss: 0.8605 - accuracy: 0.6600\n",
            "At SNR = 27\n",
            "accuracy: 66.00%\n",
            "4/4 [==============================] - 0s 4ms/step - loss: 0.8898 - accuracy: 0.7100\n",
            "At SNR = 28\n",
            "accuracy: 71.00%\n",
            "4/4 [==============================] - 0s 3ms/step - loss: 1.0972 - accuracy: 0.6800\n",
            "At SNR = 29\n",
            "accuracy: 68.00%\n",
            "4/4 [==============================] - 0s 3ms/step - loss: 1.0953 - accuracy: 0.6200\n",
            "At SNR = 30\n",
            "accuracy: 62.00%\n",
            "4/4 [==============================] - 0s 3ms/step - loss: 1.1029 - accuracy: 0.7100\n",
            "At SNR = 31\n",
            "accuracy: 71.00%\n",
            "4/4 [==============================] - 0s 3ms/step - loss: 1.1486 - accuracy: 0.6500\n",
            "At SNR = 32\n",
            "accuracy: 65.00%\n",
            "4/4 [==============================] - 0s 3ms/step - loss: 1.1561 - accuracy: 0.6800\n",
            "At SNR = 33\n",
            "accuracy: 68.00%\n",
            "4/4 [==============================] - 0s 3ms/step - loss: 0.5960 - accuracy: 0.8100\n",
            "At SNR = 34\n",
            "accuracy: 81.00%\n",
            "4/4 [==============================] - 0s 3ms/step - loss: 0.6187 - accuracy: 0.8000\n",
            "At SNR = 35\n",
            "accuracy: 80.00%\n",
            "4/4 [==============================] - 0s 4ms/step - loss: 0.6026 - accuracy: 0.8500\n",
            "At SNR = 36\n",
            "accuracy: 85.00%\n",
            "4/4 [==============================] - 0s 3ms/step - loss: 0.6103 - accuracy: 0.8200\n",
            "At SNR = 37\n",
            "accuracy: 82.00%\n",
            "4/4 [==============================] - 0s 2ms/step - loss: 0.6251 - accuracy: 0.7100\n",
            "At SNR = 38\n",
            "accuracy: 71.00%\n",
            "4/4 [==============================] - 0s 3ms/step - loss: 0.6149 - accuracy: 0.8100\n",
            "At SNR = 39\n",
            "accuracy: 81.00%\n",
            "4/4 [==============================] - 0s 4ms/step - loss: 0.6155 - accuracy: 0.7500\n",
            "At SNR = 40\n",
            "accuracy: 75.00%\n",
            "4/4 [==============================] - 0s 3ms/step - loss: 0.6066 - accuracy: 0.8200\n",
            "At SNR = 41\n",
            "accuracy: 82.00%\n",
            "4/4 [==============================] - 0s 3ms/step - loss: 0.6305 - accuracy: 0.7600\n",
            "At SNR = 42\n",
            "accuracy: 76.00%\n",
            "4/4 [==============================] - 0s 4ms/step - loss: 0.6026 - accuracy: 0.7800\n",
            "At SNR = 43\n",
            "accuracy: 78.00%\n",
            "4/4 [==============================] - 0s 4ms/step - loss: 0.6193 - accuracy: 0.7300\n",
            "At SNR = 44\n",
            "accuracy: 73.00%\n",
            "4/4 [==============================] - 0s 3ms/step - loss: 0.6051 - accuracy: 0.8800\n"
          ],
          "name": "stdout"
        },
        {
          "output_type": "stream",
          "text": [
            "No handles with labels found to put in legend.\n"
          ],
          "name": "stderr"
        },
        {
          "output_type": "stream",
          "text": [
            "At SNR = 45\n",
            "accuracy: 88.00%\n"
          ],
          "name": "stdout"
        },
        {
          "output_type": "display_data",
          "data": {
            "image/png": "[encoded data removed]",
            "text/plain": [
              "<Figure size 432x288 with 1 Axes>"
            ]
          },
          "metadata": {
            "tags": [],
            "needs_background": "light"
          }
        }
      ]
    },
    {
      "cell_type": "code",
      "metadata": {
        "id": "CTeuex80GaPQ"
      },
      "source": [
        ""
      ],
      "execution_count": null,
      "outputs": []
    }
  ]
}