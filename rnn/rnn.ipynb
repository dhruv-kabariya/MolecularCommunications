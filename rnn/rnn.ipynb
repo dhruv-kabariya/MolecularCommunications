{
  "nbformat": 4,
  "nbformat_minor": 0,
  "metadata": {
    "colab": {
      "name": "ann.ipynb",
      "provenance": [],
      "collapsed_sections": []
    },
    "kernelspec": {
      "name": "python3",
      "display_name": "Python 3"
    },
    "language_info": {
      "name": "python"
    }
  },
  "cells": [
    {
      "cell_type": "code",
      "metadata": {
        "id": "7yPfZlo8kYj5",
        "colab": {
          "base_uri": "https://localhost:8080/"
        },
        "outputId": "75106e5f-e9da-42f6-eb10-4a81746c829d"
      },
      "source": [
        "import numpy as np\n",
        "import math\n",
        "from scipy.stats import norm\n",
        "import time\n",
        "import pandas as pd\n",
        "import statsmodels.api as sm\n",
        "from keras.layers import Dense, Dropout, LSTM, Embedding,SimpleRNN\n",
        "from keras.models import Sequential\n",
        "from matplotlib import pyplot as plt\n",
        "\n",
        "%matplotlib inline"
      ],
      "execution_count": 1,
      "outputs": [
        {
          "output_type": "stream",
          "text": [
            "/usr/local/lib/python3.7/dist-packages/statsmodels/tools/_testing.py:19: FutureWarning: pandas.util.testing is deprecated. Use the functions in the public API at pandas.testing instead.\n",
            "  import pandas.util.testing as tm\n"
          ],
          "name": "stderr"
        }
      ]
    },
    {
      "cell_type": "code",
      "metadata": {
        "colab": {
          "resources": {
            "http://localhost:8080/nbextensions/google.colab/files.js": {
              "data": "Ly8gQ29weXJpZ2h0IDIwMTcgR29vZ2xlIExMQwovLwovLyBMaWNlbnNlZCB1bmRlciB0aGUgQXBhY2hlIExpY2Vuc2UsIFZlcnNpb24gMi4wICh0aGUgIkxpY2Vuc2UiKTsKLy8geW91IG1heSBub3QgdXNlIHRoaXMgZmlsZSBleGNlcHQgaW4gY29tcGxpYW5jZSB3aXRoIHRoZSBMaWNlbnNlLgovLyBZb3UgbWF5IG9idGFpbiBhIGNvcHkgb2YgdGhlIExpY2Vuc2UgYXQKLy8KLy8gICAgICBodHRwOi8vd3d3LmFwYWNoZS5vcmcvbGljZW5zZXMvTElDRU5TRS0yLjAKLy8KLy8gVW5sZXNzIHJlcXVpcmVkIGJ5IGFwcGxpY2FibGUgbGF3IG9yIGFncmVlZCB0byBpbiB3cml0aW5nLCBzb2Z0d2FyZQovLyBkaXN0cmlidXRlZCB1bmRlciB0aGUgTGljZW5zZSBpcyBkaXN0cmlidXRlZCBvbiBhbiAiQVMgSVMiIEJBU0lTLAovLyBXSVRIT1VUIFdBUlJBTlRJRVMgT1IgQ09ORElUSU9OUyBPRiBBTlkgS0lORCwgZWl0aGVyIGV4cHJlc3Mgb3IgaW1wbGllZC4KLy8gU2VlIHRoZSBMaWNlbnNlIGZvciB0aGUgc3BlY2lmaWMgbGFuZ3VhZ2UgZ292ZXJuaW5nIHBlcm1pc3Npb25zIGFuZAovLyBsaW1pdGF0aW9ucyB1bmRlciB0aGUgTGljZW5zZS4KCi8qKgogKiBAZmlsZW92ZXJ2aWV3IEhlbHBlcnMgZm9yIGdvb2dsZS5jb2xhYiBQeXRob24gbW9kdWxlLgogKi8KKGZ1bmN0aW9uKHNjb3BlKSB7CmZ1bmN0aW9uIHNwYW4odGV4dCwgc3R5bGVBdHRyaWJ1dGVzID0ge30pIHsKICBjb25zdCBlbGVtZW50ID0gZG9jdW1lbnQuY3JlYXRlRWxlbWVudCgnc3BhbicpOwogIGVsZW1lbnQudGV4dENvbnRlbnQgPSB0ZXh0OwogIGZvciAoY29uc3Qga2V5IG9mIE9iamVjdC5rZXlzKHN0eWxlQXR0cmlidXRlcykpIHsKICAgIGVsZW1lbnQuc3R5bGVba2V5XSA9IHN0eWxlQXR0cmlidXRlc1trZXldOwogIH0KICByZXR1cm4gZWxlbWVudDsKfQoKLy8gTWF4IG51bWJlciBvZiBieXRlcyB3aGljaCB3aWxsIGJlIHVwbG9hZGVkIGF0IGEgdGltZS4KY29uc3QgTUFYX1BBWUxPQURfU0laRSA9IDEwMCAqIDEwMjQ7CgpmdW5jdGlvbiBfdXBsb2FkRmlsZXMoaW5wdXRJZCwgb3V0cHV0SWQpIHsKICBjb25zdCBzdGVwcyA9IHVwbG9hZEZpbGVzU3RlcChpbnB1dElkLCBvdXRwdXRJZCk7CiAgY29uc3Qgb3V0cHV0RWxlbWVudCA9IGRvY3VtZW50LmdldEVsZW1lbnRCeUlkKG91dHB1dElkKTsKICAvLyBDYWNoZSBzdGVwcyBvbiB0aGUgb3V0cHV0RWxlbWVudCB0byBtYWtlIGl0IGF2YWlsYWJsZSBmb3IgdGhlIG5leHQgY2FsbAogIC8vIHRvIHVwbG9hZEZpbGVzQ29udGludWUgZnJvbSBQeXRob24uCiAgb3V0cHV0RWxlbWVudC5zdGVwcyA9IHN0ZXBzOwoKICByZXR1cm4gX3VwbG9hZEZpbGVzQ29udGludWUob3V0cHV0SWQpOwp9CgovLyBUaGlzIGlzIHJvdWdobHkgYW4gYXN5bmMgZ2VuZXJhdG9yIChub3Qgc3VwcG9ydGVkIGluIHRoZSBicm93c2VyIHlldCksCi8vIHdoZXJlIHRoZXJlIGFyZSBtdWx0aXBsZSBhc3luY2hyb25vdXMgc3RlcHMgYW5kIHRoZSBQeXRob24gc2lkZSBpcyBnb2luZwovLyB0byBwb2xsIGZvciBjb21wbGV0aW9uIG9mIGVhY2ggc3RlcC4KLy8gVGhpcyB1c2VzIGEgUHJvbWlzZSB0byBibG9jayB0aGUgcHl0aG9uIHNpZGUgb24gY29tcGxldGlvbiBvZiBlYWNoIHN0ZXAsCi8vIHRoZW4gcGFzc2VzIHRoZSByZXN1bHQgb2YgdGhlIHByZXZpb3VzIHN0ZXAgYXMgdGhlIGlucHV0IHRvIHRoZSBuZXh0IHN0ZXAuCmZ1bmN0aW9uIF91cGxvYWRGaWxlc0NvbnRpbnVlKG91dHB1dElkKSB7CiAgY29uc3Qgb3V0cHV0RWxlbWVudCA9IGRvY3VtZW50LmdldEVsZW1lbnRCeUlkKG91dHB1dElkKTsKICBjb25zdCBzdGVwcyA9IG91dHB1dEVsZW1lbnQuc3RlcHM7CgogIGNvbnN0IG5leHQgPSBzdGVwcy5uZXh0KG91dHB1dEVsZW1lbnQubGFzdFByb21pc2VWYWx1ZSk7CiAgcmV0dXJuIFByb21pc2UucmVzb2x2ZShuZXh0LnZhbHVlLnByb21pc2UpLnRoZW4oKHZhbHVlKSA9PiB7CiAgICAvLyBDYWNoZSB0aGUgbGFzdCBwcm9taXNlIHZhbHVlIHRvIG1ha2UgaXQgYXZhaWxhYmxlIHRvIHRoZSBuZXh0CiAgICAvLyBzdGVwIG9mIHRoZSBnZW5lcmF0b3IuCiAgICBvdXRwdXRFbGVtZW50Lmxhc3RQcm9taXNlVmFsdWUgPSB2YWx1ZTsKICAgIHJldHVybiBuZXh0LnZhbHVlLnJlc3BvbnNlOwogIH0pOwp9CgovKioKICogR2VuZXJhdG9yIGZ1bmN0aW9uIHdoaWNoIGlzIGNhbGxlZCBiZXR3ZWVuIGVhY2ggYXN5bmMgc3RlcCBvZiB0aGUgdXBsb2FkCiAqIHByb2Nlc3MuCiAqIEBwYXJhbSB7c3RyaW5nfSBpbnB1dElkIEVsZW1lbnQgSUQgb2YgdGhlIGlucHV0IGZpbGUgcGlja2VyIGVsZW1lbnQuCiAqIEBwYXJhbSB7c3RyaW5nfSBvdXRwdXRJZCBFbGVtZW50IElEIG9mIHRoZSBvdXRwdXQgZGlzcGxheS4KICogQHJldHVybiB7IUl0ZXJhYmxlPCFPYmplY3Q+fSBJdGVyYWJsZSBvZiBuZXh0IHN0ZXBzLgogKi8KZnVuY3Rpb24qIHVwbG9hZEZpbGVzU3RlcChpbnB1dElkLCBvdXRwdXRJZCkgewogIGNvbnN0IGlucHV0RWxlbWVudCA9IGRvY3VtZW50LmdldEVsZW1lbnRCeUlkKGlucHV0SWQpOwogIGlucHV0RWxlbWVudC5kaXNhYmxlZCA9IGZhbHNlOwoKICBjb25zdCBvdXRwdXRFbGVtZW50ID0gZG9jdW1lbnQuZ2V0RWxlbWVudEJ5SWQob3V0cHV0SWQpOwogIG91dHB1dEVsZW1lbnQuaW5uZXJIVE1MID0gJyc7CgogIGNvbnN0IHBpY2tlZFByb21pc2UgPSBuZXcgUHJvbWlzZSgocmVzb2x2ZSkgPT4gewogICAgaW5wdXRFbGVtZW50LmFkZEV2ZW50TGlzdGVuZXIoJ2NoYW5nZScsIChlKSA9PiB7CiAgICAgIHJlc29sdmUoZS50YXJnZXQuZmlsZXMpOwogICAgfSk7CiAgfSk7CgogIGNvbnN0IGNhbmNlbCA9IGRvY3VtZW50LmNyZWF0ZUVsZW1lbnQoJ2J1dHRvbicpOwogIGlucHV0RWxlbWVudC5wYXJlbnRFbGVtZW50LmFwcGVuZENoaWxkKGNhbmNlbCk7CiAgY2FuY2VsLnRleHRDb250ZW50ID0gJ0NhbmNlbCB1cGxvYWQnOwogIGNvbnN0IGNhbmNlbFByb21pc2UgPSBuZXcgUHJvbWlzZSgocmVzb2x2ZSkgPT4gewogICAgY2FuY2VsLm9uY2xpY2sgPSAoKSA9PiB7CiAgICAgIHJlc29sdmUobnVsbCk7CiAgICB9OwogIH0pOwoKICAvLyBXYWl0IGZvciB0aGUgdXNlciB0byBwaWNrIHRoZSBmaWxlcy4KICBjb25zdCBmaWxlcyA9IHlpZWxkIHsKICAgIHByb21pc2U6IFByb21pc2UucmFjZShbcGlja2VkUHJvbWlzZSwgY2FuY2VsUHJvbWlzZV0pLAogICAgcmVzcG9uc2U6IHsKICAgICAgYWN0aW9uOiAnc3RhcnRpbmcnLAogICAgfQogIH07CgogIGNhbmNlbC5yZW1vdmUoKTsKCiAgLy8gRGlzYWJsZSB0aGUgaW5wdXQgZWxlbWVudCBzaW5jZSBmdXJ0aGVyIHBpY2tzIGFyZSBub3QgYWxsb3dlZC4KICBpbnB1dEVsZW1lbnQuZGlzYWJsZWQgPSB0cnVlOwoKICBpZiAoIWZpbGVzKSB7CiAgICByZXR1cm4gewogICAgICByZXNwb25zZTogewogICAgICAgIGFjdGlvbjogJ2NvbXBsZXRlJywKICAgICAgfQogICAgfTsKICB9CgogIGZvciAoY29uc3QgZmlsZSBvZiBmaWxlcykgewogICAgY29uc3QgbGkgPSBkb2N1bWVudC5jcmVhdGVFbGVtZW50KCdsaScpOwogICAgbGkuYXBwZW5kKHNwYW4oZmlsZS5uYW1lLCB7Zm9udFdlaWdodDogJ2JvbGQnfSkpOwogICAgbGkuYXBwZW5kKHNwYW4oCiAgICAgICAgYCgke2ZpbGUudHlwZSB8fCAnbi9hJ30pIC0gJHtmaWxlLnNpemV9IGJ5dGVzLCBgICsKICAgICAgICBgbGFzdCBtb2RpZmllZDogJHsKICAgICAgICAgICAgZmlsZS5sYXN0TW9kaWZpZWREYXRlID8gZmlsZS5sYXN0TW9kaWZpZWREYXRlLnRvTG9jYWxlRGF0ZVN0cmluZygpIDoKICAgICAgICAgICAgICAgICAgICAgICAgICAgICAgICAgICAgJ24vYSd9IC0gYCkpOwogICAgY29uc3QgcGVyY2VudCA9IHNwYW4oJzAlIGRvbmUnKTsKICAgIGxpLmFwcGVuZENoaWxkKHBlcmNlbnQpOwoKICAgIG91dHB1dEVsZW1lbnQuYXBwZW5kQ2hpbGQobGkpOwoKICAgIGNvbnN0IGZpbGVEYXRhUHJvbWlzZSA9IG5ldyBQcm9taXNlKChyZXNvbHZlKSA9PiB7CiAgICAgIGNvbnN0IHJlYWRlciA9IG5ldyBGaWxlUmVhZGVyKCk7CiAgICAgIHJlYWRlci5vbmxvYWQgPSAoZSkgPT4gewogICAgICAgIHJlc29sdmUoZS50YXJnZXQucmVzdWx0KTsKICAgICAgfTsKICAgICAgcmVhZGVyLnJlYWRBc0FycmF5QnVmZmVyKGZpbGUpOwogICAgfSk7CiAgICAvLyBXYWl0IGZvciB0aGUgZGF0YSB0byBiZSByZWFkeS4KICAgIGxldCBmaWxlRGF0YSA9IHlpZWxkIHsKICAgICAgcHJvbWlzZTogZmlsZURhdGFQcm9taXNlLAogICAgICByZXNwb25zZTogewogICAgICAgIGFjdGlvbjogJ2NvbnRpbnVlJywKICAgICAgfQogICAgfTsKCiAgICAvLyBVc2UgYSBjaHVua2VkIHNlbmRpbmcgdG8gYXZvaWQgbWVzc2FnZSBzaXplIGxpbWl0cy4gU2VlIGIvNjIxMTU2NjAuCiAgICBsZXQgcG9zaXRpb24gPSAwOwogICAgd2hpbGUgKHBvc2l0aW9uIDwgZmlsZURhdGEuYnl0ZUxlbmd0aCkgewogICAgICBjb25zdCBsZW5ndGggPSBNYXRoLm1pbihmaWxlRGF0YS5ieXRlTGVuZ3RoIC0gcG9zaXRpb24sIE1BWF9QQVlMT0FEX1NJWkUpOwogICAgICBjb25zdCBjaHVuayA9IG5ldyBVaW50OEFycmF5KGZpbGVEYXRhLCBwb3NpdGlvbiwgbGVuZ3RoKTsKICAgICAgcG9zaXRpb24gKz0gbGVuZ3RoOwoKICAgICAgY29uc3QgYmFzZTY0ID0gYnRvYShTdHJpbmcuZnJvbUNoYXJDb2RlLmFwcGx5KG51bGwsIGNodW5rKSk7CiAgICAgIHlpZWxkIHsKICAgICAgICByZXNwb25zZTogewogICAgICAgICAgYWN0aW9uOiAnYXBwZW5kJywKICAgICAgICAgIGZpbGU6IGZpbGUubmFtZSwKICAgICAgICAgIGRhdGE6IGJhc2U2NCwKICAgICAgICB9LAogICAgICB9OwogICAgICBwZXJjZW50LnRleHRDb250ZW50ID0KICAgICAgICAgIGAke01hdGgucm91bmQoKHBvc2l0aW9uIC8gZmlsZURhdGEuYnl0ZUxlbmd0aCkgKiAxMDApfSUgZG9uZWA7CiAgICB9CiAgfQoKICAvLyBBbGwgZG9uZS4KICB5aWVsZCB7CiAgICByZXNwb25zZTogewogICAgICBhY3Rpb246ICdjb21wbGV0ZScsCiAgICB9CiAgfTsKfQoKc2NvcGUuZ29vZ2xlID0gc2NvcGUuZ29vZ2xlIHx8IHt9OwpzY29wZS5nb29nbGUuY29sYWIgPSBzY29wZS5nb29nbGUuY29sYWIgfHwge307CnNjb3BlLmdvb2dsZS5jb2xhYi5fZmlsZXMgPSB7CiAgX3VwbG9hZEZpbGVzLAogIF91cGxvYWRGaWxlc0NvbnRpbnVlLAp9Owp9KShzZWxmKTsK",
              "ok": true,
              "headers": [
                [
                  "content-type",
                  "application/javascript"
                ]
              ],
              "status": 200,
              "status_text": ""
            }
          },
          "base_uri": "https://localhost:8080/",
          "height": 73
        },
        "id": "GgfMfLr7kkij",
        "outputId": "825126ad-c880-4050-ae53-d7814bf73236"
      },
      "source": [
        "# Transmited label data file\n",
        "from google.colab import files\n",
        "import io\n",
        "#number of receiverd particle\n",
        "uploadedy = files.upload()"
      ],
      "execution_count": 2,
      "outputs": [
        {
          "output_type": "display_data",
          "data": {
            "text/html": [
              "\n",
              "     <input type=\"file\" id=\"files-306db371-0d64-49af-8cfa-ad54919535a8\" name=\"files[]\" multiple disabled\n",
              "        style=\"border:none\" />\n",
              "     <output id=\"result-306db371-0d64-49af-8cfa-ad54919535a8\">\n",
              "      Upload widget is only available when the cell has been executed in the\n",
              "      current browser session. Please rerun this cell to enable.\n",
              "      </output>\n",
              "      <script src=\"/nbextensions/google.colab/files.js\"></script> "
            ],
            "text/plain": [
              "<IPython.core.display.HTML object>"
            ]
          },
          "metadata": {
            "tags": []
          }
        },
        {
          "output_type": "stream",
          "text": [
            "Saving x_y.csv to x_y.csv\n"
          ],
          "name": "stdout"
        }
      ]
    },
    {
      "cell_type": "code",
      "metadata": {
        "id": "uJdy_sDsklMr"
      },
      "source": [
        "data = pd.read_csv('x_y.csv')"
      ],
      "execution_count": 3,
      "outputs": []
    },
    {
      "cell_type": "code",
      "metadata": {
        "id": "Xwa9T35unvX1"
      },
      "source": [
        "X = data['X']\n",
        "Y = data[\"Y\"]"
      ],
      "execution_count": 4,
      "outputs": []
    },
    {
      "cell_type": "code",
      "metadata": {
        "colab": {
          "base_uri": "https://localhost:8080/"
        },
        "id": "4bZIX_RLnz0Q",
        "outputId": "57da4920-bec9-4fb9-fe55-e811523fa0ce"
      },
      "source": [
        "print(X)"
      ],
      "execution_count": 5,
      "outputs": [
        {
          "output_type": "stream",
          "text": [
            "0           0.0\n",
            "1           0.0\n",
            "2           0.0\n",
            "3           0.0\n",
            "4           0.0\n",
            "         ...   \n",
            "5495    19080.0\n",
            "5496    19076.0\n",
            "5497    19154.0\n",
            "5498    19067.0\n",
            "5499    18929.0\n",
            "Name: X, Length: 5500, dtype: float64\n"
          ],
          "name": "stdout"
        }
      ]
    },
    {
      "cell_type": "code",
      "metadata": {
        "id": "reKRDljyn91l"
      },
      "source": [
        "X = np.array(data['X'])\n",
        "X = np.reshape(X, (5500,1))\n",
        "Y = np.array(data['Y'])\n",
        "Y = np.reshape(Y, (5500,1))"
      ],
      "execution_count": 6,
      "outputs": []
    },
    {
      "cell_type": "code",
      "metadata": {
        "id": "fyWyIVyDpW9k"
      },
      "source": [
        "from keras.optimizers import Adam\n",
        "model = Sequential()\n",
        "\n",
        "model.add(Dense(5, input_dim=1, activation='tanh'))\n",
        "for i in range(8):\n",
        "  model.add(Dense(5, input_dim=5, activation='tanh'))\n",
        "model.add(Dense(1, input_dim=5, activation='sigmoid'))\n",
        "\n",
        "model.compile(loss='binary_crossentropy',optimizer=Adam(lr=0.01),metrics=['accuracy'])"
      ],
      "execution_count": 17,
      "outputs": []
    },
    {
      "cell_type": "code",
      "metadata": {
        "id": "FfLOq6VtqmC9",
        "colab": {
          "base_uri": "https://localhost:8080/"
        },
        "outputId": "035e1fe3-2545-4e51-f1a6-7b0f332a3dbf"
      },
      "source": [
        "mymodel = model.fit(X[:3000],Y[:3000],epochs=50,batch_size=10)\n",
        "scores = model.evaluate(X, Y)\n",
        "print(model.metrics_names)\n",
        "print(scores)"
      ],
      "execution_count": 18,
      "outputs": [
        {
          "output_type": "stream",
          "text": [
            "Epoch 1/50\n",
            "300/300 [==============================] - 1s 1ms/step - loss: 0.6864 - accuracy: 0.5459\n",
            "Epoch 2/50\n",
            "300/300 [==============================] - 0s 1ms/step - loss: 0.6893 - accuracy: 0.5525\n",
            "Epoch 3/50\n",
            "300/300 [==============================] - 0s 1ms/step - loss: 0.6888 - accuracy: 0.5574\n",
            "Epoch 4/50\n",
            "300/300 [==============================] - 0s 1ms/step - loss: 0.6886 - accuracy: 0.5518\n",
            "Epoch 5/50\n",
            "300/300 [==============================] - 0s 1ms/step - loss: 0.6850 - accuracy: 0.5623\n",
            "Epoch 6/50\n",
            "300/300 [==============================] - 0s 1ms/step - loss: 0.6828 - accuracy: 0.5769\n",
            "Epoch 7/50\n",
            "300/300 [==============================] - 0s 1ms/step - loss: 0.6871 - accuracy: 0.5594\n",
            "Epoch 8/50\n",
            "300/300 [==============================] - 0s 1ms/step - loss: 0.6878 - accuracy: 0.5592\n",
            "Epoch 9/50\n",
            "300/300 [==============================] - 0s 1ms/step - loss: 0.6873 - accuracy: 0.5585\n",
            "Epoch 10/50\n",
            "300/300 [==============================] - 0s 1ms/step - loss: 0.6866 - accuracy: 0.5648\n",
            "Epoch 11/50\n",
            "300/300 [==============================] - 0s 1ms/step - loss: 0.6888 - accuracy: 0.5597\n",
            "Epoch 12/50\n",
            "300/300 [==============================] - 0s 1ms/step - loss: 0.6869 - accuracy: 0.5623\n",
            "Epoch 13/50\n",
            "300/300 [==============================] - 0s 1ms/step - loss: 0.6869 - accuracy: 0.5582\n",
            "Epoch 14/50\n",
            "300/300 [==============================] - 0s 1ms/step - loss: 0.6816 - accuracy: 0.5759\n",
            "Epoch 15/50\n",
            "300/300 [==============================] - 0s 1ms/step - loss: 0.6851 - accuracy: 0.5692\n",
            "Epoch 16/50\n",
            "300/300 [==============================] - 0s 1ms/step - loss: 0.6845 - accuracy: 0.5705\n",
            "Epoch 17/50\n",
            "300/300 [==============================] - 0s 1ms/step - loss: 0.6862 - accuracy: 0.5639\n",
            "Epoch 18/50\n",
            "300/300 [==============================] - 0s 1ms/step - loss: 0.6848 - accuracy: 0.5673\n",
            "Epoch 19/50\n",
            "300/300 [==============================] - 0s 1ms/step - loss: 0.6861 - accuracy: 0.5649\n",
            "Epoch 20/50\n",
            "300/300 [==============================] - 0s 1ms/step - loss: 0.6793 - accuracy: 0.5760\n",
            "Epoch 21/50\n",
            "300/300 [==============================] - 0s 1ms/step - loss: 0.6856 - accuracy: 0.5590\n",
            "Epoch 22/50\n",
            "300/300 [==============================] - 0s 1ms/step - loss: 0.6869 - accuracy: 0.5588\n",
            "Epoch 23/50\n",
            "300/300 [==============================] - 0s 1ms/step - loss: 0.6901 - accuracy: 0.5489\n",
            "Epoch 24/50\n",
            "300/300 [==============================] - 0s 1ms/step - loss: 0.6891 - accuracy: 0.5628\n",
            "Epoch 25/50\n",
            "300/300 [==============================] - 0s 1ms/step - loss: 0.6850 - accuracy: 0.5661\n",
            "Epoch 26/50\n",
            "300/300 [==============================] - 0s 1ms/step - loss: 0.6867 - accuracy: 0.5585\n",
            "Epoch 27/50\n",
            "300/300 [==============================] - 0s 1ms/step - loss: 0.6824 - accuracy: 0.5775\n",
            "Epoch 28/50\n",
            "300/300 [==============================] - 0s 1ms/step - loss: 0.6884 - accuracy: 0.5529\n",
            "Epoch 29/50\n",
            "300/300 [==============================] - 0s 1ms/step - loss: 0.6892 - accuracy: 0.5513\n",
            "Epoch 30/50\n",
            "300/300 [==============================] - 0s 1ms/step - loss: 0.6853 - accuracy: 0.5640\n",
            "Epoch 31/50\n",
            "300/300 [==============================] - 0s 1ms/step - loss: 0.6905 - accuracy: 0.5424\n",
            "Epoch 32/50\n",
            "300/300 [==============================] - 0s 1ms/step - loss: 0.6845 - accuracy: 0.5685\n",
            "Epoch 33/50\n",
            "300/300 [==============================] - 0s 1ms/step - loss: 0.6871 - accuracy: 0.5540\n",
            "Epoch 34/50\n",
            "300/300 [==============================] - 0s 1ms/step - loss: 0.6896 - accuracy: 0.5478\n",
            "Epoch 35/50\n",
            "300/300 [==============================] - 0s 1ms/step - loss: 0.6870 - accuracy: 0.5570\n",
            "Epoch 36/50\n",
            "300/300 [==============================] - 0s 1ms/step - loss: 0.6892 - accuracy: 0.5524\n",
            "Epoch 37/50\n",
            "300/300 [==============================] - 0s 1ms/step - loss: 0.6866 - accuracy: 0.5575\n",
            "Epoch 38/50\n",
            "300/300 [==============================] - 0s 1ms/step - loss: 0.6831 - accuracy: 0.5726\n",
            "Epoch 39/50\n",
            "300/300 [==============================] - 0s 1ms/step - loss: 0.6851 - accuracy: 0.5657\n",
            "Epoch 40/50\n",
            "300/300 [==============================] - 0s 1ms/step - loss: 0.6856 - accuracy: 0.5649\n",
            "Epoch 41/50\n",
            "300/300 [==============================] - 0s 1ms/step - loss: 0.6868 - accuracy: 0.5596\n",
            "Epoch 42/50\n",
            "300/300 [==============================] - 0s 1ms/step - loss: 0.6820 - accuracy: 0.5739\n",
            "Epoch 43/50\n",
            "300/300 [==============================] - 0s 1ms/step - loss: 0.6881 - accuracy: 0.5529\n",
            "Epoch 44/50\n",
            "300/300 [==============================] - 0s 1ms/step - loss: 0.6843 - accuracy: 0.5691\n",
            "Epoch 45/50\n",
            "300/300 [==============================] - 0s 1ms/step - loss: 0.6865 - accuracy: 0.5599\n",
            "Epoch 46/50\n",
            "300/300 [==============================] - 0s 1ms/step - loss: 0.6876 - accuracy: 0.5560\n",
            "Epoch 47/50\n",
            "300/300 [==============================] - 0s 1ms/step - loss: 0.6879 - accuracy: 0.5602\n",
            "Epoch 48/50\n",
            "300/300 [==============================] - 0s 1ms/step - loss: 0.6831 - accuracy: 0.5757\n",
            "Epoch 49/50\n",
            "300/300 [==============================] - 0s 1ms/step - loss: 0.6896 - accuracy: 0.5505\n",
            "Epoch 50/50\n",
            "300/300 [==============================] - 0s 1ms/step - loss: 0.6878 - accuracy: 0.5567\n",
            "172/172 [==============================] - 0s 1ms/step - loss: 0.6888 - accuracy: 0.5515\n",
            "['loss', 'accuracy']\n",
            "[0.6887540221214294, 0.5514545440673828]\n"
          ],
          "name": "stdout"
        }
      ]
    },
    {
      "cell_type": "code",
      "metadata": {
        "colab": {
          "base_uri": "https://localhost:8080/",
          "height": 591
        },
        "id": "0h4i9bzkrYjK",
        "outputId": "74da97ae-a2a5-4324-935c-e9ce3fc3a425"
      },
      "source": [
        "print(mymodel.history.keys())\n",
        "# summarize history for accuracy\n",
        "plt.plot(mymodel.history['accuracy'])\n",
        "# plt.plot(mymodel.history['val_accuracy'])\n",
        "plt.title('model accuracy for ANN')\n",
        "plt.ylabel('accuracy')\n",
        "plt.xlabel('epoch')\n",
        "plt.savefig('ann_accu')\n",
        "# plt.legend(['train', 'test'], loc='upper left')\n",
        "plt.show()\n",
        " #summarize history for loss\n",
        "plt.plot(mymodel.history['loss'])\n",
        "# plt.plot(mymodel.history['val_loss'])\n",
        "plt.title('model loss for ANN')\n",
        "plt.ylabel('loss')\n",
        "plt.xlabel('epoch')\n",
        "plt.savefig('ann_loss')\n",
        "# plt.legend(['train', 'test'], loc='upper left')\n",
        "plt.show()"
      ],
      "execution_count": 19,
      "outputs": [
        {
          "output_type": "stream",
          "text": [
            "dict_keys(['loss', 'accuracy'])\n"
          ],
          "name": "stdout"
        },
        {
          "output_type": "display_data",
          "data": {
            "image/png": "[encoded data removed]",
            "text/plain": [
              "<Figure size 432x288 with 1 Axes>"
            ]
          },
          "metadata": {
            "tags": [],
            "needs_background": "light"
          }
        },
        {
          "output_type": "display_data",
          "data": {
            "image/png": "[encoded data removed]",
            "text/plain": [
              "<Figure size 432x288 with 1 Axes>"
            ]
          },
          "metadata": {
            "tags": [],
            "needs_background": "light"
          }
        }
      ]
    },
    {
      "cell_type": "code",
      "metadata": {
        "colab": {
          "base_uri": "https://localhost:8080/",
          "height": 1000
        },
        "id": "OxgVHYjPtJ2k",
        "outputId": "d48ee453-99a4-456d-ff95-2a8c7b9e0041"
      },
      "source": [
        "pd_FM = {}\n",
        "idx=0\n",
        "X_FM_lb=[]\n",
        "for snr in range(-5, 50, 1):\n",
        "  X_FM_lb.append(X[idx:idx+100])\n",
        "  idx=idx+100\n",
        "\n",
        "#print(X_FM_lb)\n",
        "\n",
        "\n",
        "for snr in range(-5, 50, 1):\n",
        "  y_snr = np.ones((X_FM_lb[snr+5].shape[0], 1))\n",
        "  scores = model.evaluate(X_FM_lb[snr+5], y_snr)\n",
        "  # print(scores)\n",
        "  print(\"At SNR = \" + str(snr) + \"\\n%s: %.2f%%\" % (model.metrics_names[1], scores[1]*100))\n",
        "  pd_FM[snr] =(1- scores[1])/2\n",
        "  \n",
        "plt.plot(range(-5, 50, 1), list(pd_FM.values()))\n",
        "\n",
        "# printing the graph\n",
        "plt.yscale('log')\n",
        "plt.xlabel('SNR Range')\n",
        "plt.ylabel('BER')\n",
        "plt.grid()\n",
        "plt.savefig('ann_orig')\n",
        "plt.legend(loc='upper right',ncol = 1)\n",
        "plt.savefig('snip')\n",
        "plt.show()"
      ],
      "execution_count": 20,
      "outputs": [
        {
          "output_type": "stream",
          "text": [
            "4/4 [==============================] - 0s 2ms/step - loss: 0.7171 - accuracy: 0.1500\n",
            "At SNR = -5\n",
            "accuracy: 15.00%\n",
            "4/4 [==============================] - 0s 3ms/step - loss: 0.7191 - accuracy: 0.1400\n",
            "At SNR = -4\n",
            "accuracy: 14.00%\n",
            "4/4 [==============================] - 0s 2ms/step - loss: 0.7034 - accuracy: 0.2200\n",
            "At SNR = -3\n",
            "accuracy: 22.00%\n",
            "4/4 [==============================] - 0s 3ms/step - loss: 0.7152 - accuracy: 0.1600\n",
            "At SNR = -2\n",
            "accuracy: 16.00%\n",
            "4/4 [==============================] - 0s 3ms/step - loss: 0.6956 - accuracy: 0.2600\n",
            "At SNR = -1\n",
            "accuracy: 26.00%\n",
            "4/4 [==============================] - 0s 3ms/step - loss: 0.6839 - accuracy: 0.3200\n",
            "At SNR = 0\n",
            "accuracy: 32.00%\n",
            "4/4 [==============================] - 0s 2ms/step - loss: 0.6585 - accuracy: 0.4500\n",
            "At SNR = 1\n",
            "accuracy: 45.00%\n",
            "4/4 [==============================] - 0s 3ms/step - loss: 0.6506 - accuracy: 0.4900\n",
            "At SNR = 2\n",
            "accuracy: 49.00%\n",
            "4/4 [==============================] - 0s 3ms/step - loss: 0.6487 - accuracy: 0.5000\n",
            "At SNR = 3\n",
            "accuracy: 50.00%\n",
            "4/4 [==============================] - 0s 3ms/step - loss: 0.6389 - accuracy: 0.5500\n",
            "At SNR = 4\n",
            "accuracy: 55.00%\n",
            "4/4 [==============================] - 0s 2ms/step - loss: 0.6194 - accuracy: 0.6500\n",
            "At SNR = 5\n",
            "accuracy: 65.00%\n",
            "4/4 [==============================] - 0s 2ms/step - loss: 0.6115 - accuracy: 0.6900\n",
            "At SNR = 6\n",
            "accuracy: 69.00%\n",
            "4/4 [==============================] - 0s 2ms/step - loss: 0.6096 - accuracy: 0.7000\n",
            "At SNR = 7\n",
            "accuracy: 70.00%\n",
            "4/4 [==============================] - 0s 3ms/step - loss: 0.5666 - accuracy: 0.9200\n",
            "At SNR = 8\n",
            "accuracy: 92.00%\n",
            "4/4 [==============================] - 0s 3ms/step - loss: 0.5802 - accuracy: 0.8500\n",
            "At SNR = 9\n",
            "accuracy: 85.00%\n",
            "4/4 [==============================] - 0s 3ms/step - loss: 0.5548 - accuracy: 0.9800\n",
            "At SNR = 10\n",
            "accuracy: 98.00%\n",
            "4/4 [==============================] - 0s 2ms/step - loss: 0.5626 - accuracy: 0.9400\n",
            "At SNR = 11\n",
            "accuracy: 94.00%\n",
            "4/4 [==============================] - 0s 2ms/step - loss: 0.5509 - accuracy: 1.0000\n",
            "At SNR = 12\n",
            "accuracy: 100.00%\n",
            "4/4 [==============================] - 0s 3ms/step - loss: 0.5509 - accuracy: 1.0000\n",
            "At SNR = 13\n",
            "accuracy: 100.00%\n",
            "4/4 [==============================] - 0s 2ms/step - loss: 0.5509 - accuracy: 1.0000\n",
            "At SNR = 14\n",
            "accuracy: 100.00%\n",
            "4/4 [==============================] - 0s 3ms/step - loss: 0.5509 - accuracy: 1.0000\n",
            "At SNR = 15\n",
            "accuracy: 100.00%\n",
            "4/4 [==============================] - 0s 3ms/step - loss: 0.5509 - accuracy: 1.0000\n",
            "At SNR = 16\n",
            "accuracy: 100.00%\n",
            "4/4 [==============================] - 0s 3ms/step - loss: 0.5509 - accuracy: 1.0000\n",
            "At SNR = 17\n",
            "accuracy: 100.00%\n",
            "4/4 [==============================] - 0s 2ms/step - loss: 0.5509 - accuracy: 1.0000\n",
            "At SNR = 18\n",
            "accuracy: 100.00%\n",
            "4/4 [==============================] - 0s 3ms/step - loss: 0.5509 - accuracy: 1.0000\n",
            "At SNR = 19\n",
            "accuracy: 100.00%\n",
            "4/4 [==============================] - 0s 2ms/step - loss: 0.5509 - accuracy: 1.0000\n",
            "At SNR = 20\n",
            "accuracy: 100.00%\n",
            "4/4 [==============================] - 0s 3ms/step - loss: 0.5509 - accuracy: 1.0000\n",
            "At SNR = 21\n",
            "accuracy: 100.00%\n",
            "4/4 [==============================] - 0s 3ms/step - loss: 0.5509 - accuracy: 1.0000\n",
            "At SNR = 22\n",
            "accuracy: 100.00%\n",
            "4/4 [==============================] - 0s 3ms/step - loss: 0.5509 - accuracy: 1.0000\n",
            "At SNR = 23\n",
            "accuracy: 100.00%\n",
            "4/4 [==============================] - 0s 3ms/step - loss: 0.5509 - accuracy: 1.0000\n",
            "At SNR = 24\n",
            "accuracy: 100.00%\n",
            "4/4 [==============================] - 0s 3ms/step - loss: 0.5509 - accuracy: 1.0000\n",
            "At SNR = 25\n",
            "accuracy: 100.00%\n",
            "4/4 [==============================] - 0s 3ms/step - loss: 0.5509 - accuracy: 1.0000\n",
            "At SNR = 26\n",
            "accuracy: 100.00%\n",
            "4/4 [==============================] - 0s 4ms/step - loss: 0.5509 - accuracy: 1.0000\n",
            "At SNR = 27\n",
            "accuracy: 100.00%\n",
            "4/4 [==============================] - 0s 2ms/step - loss: 0.5509 - accuracy: 1.0000\n",
            "At SNR = 28\n",
            "accuracy: 100.00%\n",
            "4/4 [==============================] - 0s 2ms/step - loss: 0.5509 - accuracy: 1.0000\n",
            "At SNR = 29\n",
            "accuracy: 100.00%\n",
            "4/4 [==============================] - 0s 2ms/step - loss: 0.5509 - accuracy: 1.0000\n",
            "At SNR = 30\n",
            "accuracy: 100.00%\n",
            "4/4 [==============================] - 0s 3ms/step - loss: 0.5509 - accuracy: 1.0000\n",
            "At SNR = 31\n",
            "accuracy: 100.00%\n",
            "4/4 [==============================] - 0s 3ms/step - loss: 0.5509 - accuracy: 1.0000\n",
            "At SNR = 32\n",
            "accuracy: 100.00%\n",
            "4/4 [==============================] - 0s 3ms/step - loss: 0.5509 - accuracy: 1.0000\n",
            "At SNR = 33\n",
            "accuracy: 100.00%\n",
            "4/4 [==============================] - 0s 7ms/step - loss: 0.5509 - accuracy: 1.0000\n",
            "At SNR = 34\n",
            "accuracy: 100.00%\n",
            "4/4 [==============================] - 0s 3ms/step - loss: 0.5509 - accuracy: 1.0000\n",
            "At SNR = 35\n",
            "accuracy: 100.00%\n",
            "4/4 [==============================] - 0s 3ms/step - loss: 0.5509 - accuracy: 1.0000\n",
            "At SNR = 36\n",
            "accuracy: 100.00%\n",
            "4/4 [==============================] - 0s 2ms/step - loss: 0.5509 - accuracy: 1.0000\n",
            "At SNR = 37\n",
            "accuracy: 100.00%\n",
            "4/4 [==============================] - 0s 4ms/step - loss: 0.5509 - accuracy: 1.0000\n",
            "At SNR = 38\n",
            "accuracy: 100.00%\n",
            "4/4 [==============================] - 0s 3ms/step - loss: 0.5509 - accuracy: 1.0000\n",
            "At SNR = 39\n",
            "accuracy: 100.00%\n",
            "4/4 [==============================] - 0s 3ms/step - loss: 0.5509 - accuracy: 1.0000\n",
            "At SNR = 40\n",
            "accuracy: 100.00%\n",
            "4/4 [==============================] - 0s 3ms/step - loss: 0.5509 - accuracy: 1.0000\n",
            "At SNR = 41\n",
            "accuracy: 100.00%\n",
            "4/4 [==============================] - 0s 3ms/step - loss: 0.5509 - accuracy: 1.0000\n",
            "At SNR = 42\n",
            "accuracy: 100.00%\n",
            "4/4 [==============================] - 0s 2ms/step - loss: 0.5509 - accuracy: 1.0000\n",
            "At SNR = 43\n",
            "accuracy: 100.00%\n",
            "4/4 [==============================] - 0s 3ms/step - loss: 0.5509 - accuracy: 1.0000\n",
            "At SNR = 44\n",
            "accuracy: 100.00%\n",
            "4/4 [==============================] - 0s 3ms/step - loss: 0.5509 - accuracy: 1.0000\n",
            "At SNR = 45\n",
            "accuracy: 100.00%\n",
            "4/4 [==============================] - 0s 3ms/step - loss: 0.5509 - accuracy: 1.0000\n",
            "At SNR = 46\n",
            "accuracy: 100.00%\n",
            "4/4 [==============================] - 0s 3ms/step - loss: 0.5509 - accuracy: 1.0000\n",
            "At SNR = 47\n",
            "accuracy: 100.00%\n",
            "4/4 [==============================] - 0s 5ms/step - loss: 0.5509 - accuracy: 1.0000\n",
            "At SNR = 48\n",
            "accuracy: 100.00%\n",
            "4/4 [==============================] - 0s 2ms/step - loss: 0.5509 - accuracy: 1.0000\n",
            "At SNR = 49\n",
            "accuracy: 100.00%\n"
          ],
          "name": "stdout"
        },
        {
          "output_type": "stream",
          "text": [
            "No handles with labels found to put in legend.\n"
          ],
          "name": "stderr"
        },
        {
          "output_type": "display_data",
          "data": {
            "image/png": "[encoded data removed]",
            "text/plain": [
              "<Figure size 432x288 with 1 Axes>"
            ]
          },
          "metadata": {
            "tags": [],
            "needs_background": "light"
          }
        }
      ]
    },
    {
      "cell_type": "code",
      "metadata": {
        "id": "UKHqHB9G8BnB"
      },
      "source": [
        ""
      ],
      "execution_count": 20,
      "outputs": []
    },
    {
      "cell_type": "markdown",
      "metadata": {
        "id": "o_ZS22sx8CoP"
      },
      "source": [
        "# Innovation : Implementation of RNN ( layer: 5, perceptron: 10)"
      ]
    },
    {
      "cell_type": "code",
      "metadata": {
        "colab": {
          "base_uri": "https://localhost:8080/"
        },
        "id": "eNlrVLRr3reF",
        "outputId": "a6ded3ab-6402-4a39-a02a-0e26ff7bafb7"
      },
      "source": [
        "from tensorflow.keras.layers import SimpleRNN,Bidirectional,GRU\n",
        "\n",
        "np.reshape(X, (-1,1))\n",
        "np.reshape(Y, (-1,1))\n",
        "\n",
        "print(X.shape)\n",
        "\n",
        "rnn_model =Sequential()\n",
        "\n",
        "rnn_model = Sequential()\n",
        "rnn_model.add(Embedding(int(X.max())+500, 1, input_length=1))\n",
        "\n",
        "rnn_model.add(SimpleRNN(10,activation='relu'))\n",
        "\n",
        "\n",
        "\n",
        "rnn_model.add(Dense(1, activation='sigmoid'))\n",
        "rnn_model.compile(loss='binary_crossentropy', optimizer='adam', metrics=['accuracy'])\n",
        "print(rnn_model.summary())\n",
        "model.compile(loss='binary_crossentropy',optimizer=Adam(lr=0.01),metrics=['accuracy'])"
      ],
      "execution_count": 25,
      "outputs": [
        {
          "output_type": "stream",
          "text": [
            "(5500, 1)\n",
            "Model: \"sequential_7\"\n",
            "_________________________________________________________________\n",
            "Layer (type)                 Output Shape              Param #   \n",
            "=================================================================\n",
            "embedding_2 (Embedding)      (None, 1, 1)              19860     \n",
            "_________________________________________________________________\n",
            "simple_rnn_2 (SimpleRNN)     (None, 10)                120       \n",
            "_________________________________________________________________\n",
            "dense_22 (Dense)             (None, 1)                 11        \n",
            "=================================================================\n",
            "Total params: 19,991\n",
            "Trainable params: 19,991\n",
            "Non-trainable params: 0\n",
            "_________________________________________________________________\n",
            "None\n"
          ],
          "name": "stdout"
        }
      ]
    },
    {
      "cell_type": "code",
      "metadata": {
        "colab": {
          "base_uri": "https://localhost:8080/"
        },
        "id": "GqEqu8CPBfG4",
        "outputId": "65a89ba8-765d-4f8d-fde9-2179917c6a06"
      },
      "source": [
        "my_rnn_model = rnn_model.fit(X,Y,validation_split=0.3,epochs=50,batch_size=10)\n",
        "scores = rnn_model.evaluate(X, Y)\n",
        "print(model.metrics_names)\n",
        "print(scores)"
      ],
      "execution_count": 26,
      "outputs": [
        {
          "output_type": "stream",
          "text": [
            "Epoch 1/50\n",
            "385/385 [==============================] - 2s 3ms/step - loss: 0.6920 - accuracy: 0.5213 - val_loss: 0.6896 - val_accuracy: 0.5421\n",
            "Epoch 2/50\n",
            "385/385 [==============================] - 1s 2ms/step - loss: 0.6873 - accuracy: 0.5418 - val_loss: 0.6897 - val_accuracy: 0.5421\n",
            "Epoch 3/50\n",
            "385/385 [==============================] - 1s 2ms/step - loss: 0.6776 - accuracy: 0.5609 - val_loss: 0.6899 - val_accuracy: 0.5415\n",
            "Epoch 4/50\n",
            "385/385 [==============================] - 1s 2ms/step - loss: 0.6777 - accuracy: 0.5798 - val_loss: 0.6906 - val_accuracy: 0.5409\n",
            "Epoch 5/50\n",
            "385/385 [==============================] - 1s 2ms/step - loss: 0.6679 - accuracy: 0.5961 - val_loss: 0.6911 - val_accuracy: 0.5403\n",
            "Epoch 6/50\n",
            "385/385 [==============================] - 1s 2ms/step - loss: 0.6648 - accuracy: 0.6061 - val_loss: 0.6916 - val_accuracy: 0.5403\n",
            "Epoch 7/50\n",
            "385/385 [==============================] - 1s 2ms/step - loss: 0.6671 - accuracy: 0.5909 - val_loss: 0.6923 - val_accuracy: 0.5403\n",
            "Epoch 8/50\n",
            "385/385 [==============================] - 1s 2ms/step - loss: 0.6542 - accuracy: 0.6130 - val_loss: 0.6920 - val_accuracy: 0.5088\n",
            "Epoch 9/50\n",
            "385/385 [==============================] - 1s 2ms/step - loss: 0.6521 - accuracy: 0.6172 - val_loss: 0.6932 - val_accuracy: 0.5282\n",
            "Epoch 10/50\n",
            "385/385 [==============================] - 1s 2ms/step - loss: 0.6488 - accuracy: 0.6196 - val_loss: 0.6930 - val_accuracy: 0.5051\n",
            "Epoch 11/50\n",
            "385/385 [==============================] - 1s 2ms/step - loss: 0.6439 - accuracy: 0.6211 - val_loss: 0.6931 - val_accuracy: 0.5136\n",
            "Epoch 12/50\n",
            "385/385 [==============================] - 1s 2ms/step - loss: 0.6469 - accuracy: 0.6130 - val_loss: 0.6938 - val_accuracy: 0.5185\n",
            "Epoch 13/50\n",
            "385/385 [==============================] - 1s 2ms/step - loss: 0.6441 - accuracy: 0.6060 - val_loss: 0.6940 - val_accuracy: 0.5070\n",
            "Epoch 14/50\n",
            "385/385 [==============================] - 1s 2ms/step - loss: 0.6463 - accuracy: 0.5976 - val_loss: 0.6943 - val_accuracy: 0.5148\n",
            "Epoch 15/50\n",
            "385/385 [==============================] - 1s 2ms/step - loss: 0.6363 - accuracy: 0.6260 - val_loss: 0.6944 - val_accuracy: 0.5082\n",
            "Epoch 16/50\n",
            "385/385 [==============================] - 1s 2ms/step - loss: 0.6394 - accuracy: 0.6136 - val_loss: 0.6950 - val_accuracy: 0.5161\n",
            "Epoch 17/50\n",
            "385/385 [==============================] - 1s 2ms/step - loss: 0.6378 - accuracy: 0.6053 - val_loss: 0.6958 - val_accuracy: 0.5136\n",
            "Epoch 18/50\n",
            "385/385 [==============================] - 1s 2ms/step - loss: 0.6373 - accuracy: 0.6136 - val_loss: 0.6956 - val_accuracy: 0.5051\n",
            "Epoch 19/50\n",
            "385/385 [==============================] - 1s 2ms/step - loss: 0.6338 - accuracy: 0.6169 - val_loss: 0.6959 - val_accuracy: 0.5070\n",
            "Epoch 20/50\n",
            "385/385 [==============================] - 1s 2ms/step - loss: 0.6376 - accuracy: 0.6170 - val_loss: 0.6975 - val_accuracy: 0.5112\n",
            "Epoch 21/50\n",
            "385/385 [==============================] - 1s 2ms/step - loss: 0.6397 - accuracy: 0.6172 - val_loss: 0.6963 - val_accuracy: 0.5173\n",
            "Epoch 22/50\n",
            "385/385 [==============================] - 1s 2ms/step - loss: 0.6399 - accuracy: 0.6097 - val_loss: 0.6968 - val_accuracy: 0.5209\n",
            "Epoch 23/50\n",
            "385/385 [==============================] - 1s 2ms/step - loss: 0.6357 - accuracy: 0.6129 - val_loss: 0.6964 - val_accuracy: 0.5100\n",
            "Epoch 24/50\n",
            "385/385 [==============================] - 1s 2ms/step - loss: 0.6362 - accuracy: 0.6111 - val_loss: 0.6973 - val_accuracy: 0.5185\n",
            "Epoch 25/50\n",
            "385/385 [==============================] - 1s 2ms/step - loss: 0.6337 - accuracy: 0.6146 - val_loss: 0.6968 - val_accuracy: 0.5064\n",
            "Epoch 26/50\n",
            "385/385 [==============================] - 1s 2ms/step - loss: 0.6406 - accuracy: 0.6032 - val_loss: 0.6984 - val_accuracy: 0.5167\n",
            "Epoch 27/50\n",
            "385/385 [==============================] - 1s 2ms/step - loss: 0.6371 - accuracy: 0.5975 - val_loss: 0.6976 - val_accuracy: 0.5154\n",
            "Epoch 28/50\n",
            "385/385 [==============================] - 1s 2ms/step - loss: 0.6320 - accuracy: 0.6103 - val_loss: 0.6972 - val_accuracy: 0.5082\n",
            "Epoch 29/50\n",
            "385/385 [==============================] - 1s 2ms/step - loss: 0.6334 - accuracy: 0.6152 - val_loss: 0.6974 - val_accuracy: 0.5167\n",
            "Epoch 30/50\n",
            "385/385 [==============================] - 1s 2ms/step - loss: 0.6374 - accuracy: 0.6048 - val_loss: 0.6974 - val_accuracy: 0.5076\n",
            "Epoch 31/50\n",
            "385/385 [==============================] - 1s 2ms/step - loss: 0.6341 - accuracy: 0.6117 - val_loss: 0.6975 - val_accuracy: 0.5058\n",
            "Epoch 32/50\n",
            "385/385 [==============================] - 1s 2ms/step - loss: 0.6317 - accuracy: 0.6153 - val_loss: 0.6975 - val_accuracy: 0.5088\n",
            "Epoch 33/50\n",
            "385/385 [==============================] - 1s 2ms/step - loss: 0.6393 - accuracy: 0.6000 - val_loss: 0.6981 - val_accuracy: 0.5130\n",
            "Epoch 34/50\n",
            "385/385 [==============================] - 1s 2ms/step - loss: 0.6294 - accuracy: 0.6144 - val_loss: 0.6976 - val_accuracy: 0.5076\n",
            "Epoch 35/50\n",
            "385/385 [==============================] - 1s 2ms/step - loss: 0.6382 - accuracy: 0.5997 - val_loss: 0.6977 - val_accuracy: 0.5076\n",
            "Epoch 36/50\n",
            "385/385 [==============================] - 1s 2ms/step - loss: 0.6306 - accuracy: 0.6128 - val_loss: 0.6978 - val_accuracy: 0.5154\n",
            "Epoch 37/50\n",
            "385/385 [==============================] - 1s 2ms/step - loss: 0.6304 - accuracy: 0.6166 - val_loss: 0.6982 - val_accuracy: 0.5191\n",
            "Epoch 38/50\n",
            "385/385 [==============================] - 1s 2ms/step - loss: 0.6268 - accuracy: 0.6196 - val_loss: 0.6984 - val_accuracy: 0.5161\n",
            "Epoch 39/50\n",
            "385/385 [==============================] - 1s 2ms/step - loss: 0.6231 - accuracy: 0.6221 - val_loss: 0.6997 - val_accuracy: 0.5130\n",
            "Epoch 40/50\n",
            "385/385 [==============================] - 1s 2ms/step - loss: 0.6359 - accuracy: 0.6097 - val_loss: 0.6984 - val_accuracy: 0.5185\n",
            "Epoch 41/50\n",
            "385/385 [==============================] - 1s 2ms/step - loss: 0.6386 - accuracy: 0.5978 - val_loss: 0.6984 - val_accuracy: 0.5179\n",
            "Epoch 42/50\n",
            "385/385 [==============================] - 1s 2ms/step - loss: 0.6295 - accuracy: 0.6146 - val_loss: 0.6986 - val_accuracy: 0.5051\n",
            "Epoch 43/50\n",
            "385/385 [==============================] - 1s 2ms/step - loss: 0.6328 - accuracy: 0.6165 - val_loss: 0.6983 - val_accuracy: 0.5064\n",
            "Epoch 44/50\n",
            "385/385 [==============================] - 1s 2ms/step - loss: 0.6264 - accuracy: 0.6225 - val_loss: 0.6987 - val_accuracy: 0.5070\n",
            "Epoch 45/50\n",
            "385/385 [==============================] - 1s 2ms/step - loss: 0.6356 - accuracy: 0.5990 - val_loss: 0.6989 - val_accuracy: 0.5179\n",
            "Epoch 46/50\n",
            "385/385 [==============================] - 1s 2ms/step - loss: 0.6290 - accuracy: 0.6065 - val_loss: 0.6985 - val_accuracy: 0.5148\n",
            "Epoch 47/50\n",
            "385/385 [==============================] - 1s 2ms/step - loss: 0.6305 - accuracy: 0.6203 - val_loss: 0.6986 - val_accuracy: 0.5161\n",
            "Epoch 48/50\n",
            "385/385 [==============================] - 1s 2ms/step - loss: 0.6312 - accuracy: 0.6079 - val_loss: 0.6998 - val_accuracy: 0.5148\n",
            "Epoch 49/50\n",
            "385/385 [==============================] - 1s 2ms/step - loss: 0.6346 - accuracy: 0.5934 - val_loss: 0.6989 - val_accuracy: 0.5173\n",
            "Epoch 50/50\n",
            "385/385 [==============================] - 1s 2ms/step - loss: 0.6395 - accuracy: 0.5932 - val_loss: 0.6990 - val_accuracy: 0.5173\n",
            "172/172 [==============================] - 0s 1ms/step - loss: 0.6489 - accuracy: 0.5864\n",
            "[]\n",
            "[0.6489357948303223, 0.5863636136054993]\n"
          ],
          "name": "stdout"
        }
      ]
    },
    {
      "cell_type": "code",
      "metadata": {
        "colab": {
          "base_uri": "https://localhost:8080/",
          "height": 591
        },
        "id": "Lx1psBX_Cj2w",
        "outputId": "056b8da0-86fe-40b4-dc69-cfeef95019f5"
      },
      "source": [
        "print(my_rnn_model.history.keys())\n",
        "# summarize history for accuracy\n",
        "plt.plot(my_rnn_model.history['accuracy'])\n",
        "plt.plot(my_rnn_model.history['val_accuracy'])\n",
        "plt.title('model accuracy')\n",
        "plt.ylabel('accuracy')\n",
        "plt.xlabel('epoch')\n",
        "plt.savefig('snip2')\n",
        "plt.legend(['train', 'test'], loc='upper left')\n",
        "plt.show()\n",
        " #summarize history for loss\n",
        "plt.plot(my_rnn_model.history['loss'])\n",
        "plt.plot(my_rnn_model.history['val_loss'])\n",
        "plt.title('model loss')\n",
        "plt.ylabel('loss')\n",
        "plt.xlabel('epoch')\n",
        "plt.savefig('snip1')\n",
        "plt.legend(['train', 'test'], loc='upper left')\n",
        "plt.show()"
      ],
      "execution_count": 27,
      "outputs": [
        {
          "output_type": "stream",
          "text": [
            "dict_keys(['loss', 'accuracy', 'val_loss', 'val_accuracy'])\n"
          ],
          "name": "stdout"
        },
        {
          "output_type": "display_data",
          "data": {
            "image/png": "[encoded data removed]",
            "text/plain": [
              "<Figure size 432x288 with 1 Axes>"
            ]
          },
          "metadata": {
            "tags": [],
            "needs_background": "light"
          }
        },
        {
          "output_type": "display_data",
          "data": {
            "image/png": "[encoded data removed]",
            "text/plain": [
              "<Figure size 432x288 with 1 Axes>"
            ]
          },
          "metadata": {
            "tags": [],
            "needs_background": "light"
          }
        }
      ]
    },
    {
      "cell_type": "code",
      "metadata": {
        "colab": {
          "base_uri": "https://localhost:8080/",
          "height": 1000
        },
        "id": "8D786UcrFet4",
        "outputId": "0a8addfc-5451-48b6-f285-e5b30016e9a8"
      },
      "source": [
        "pd_FM = {}\n",
        "idx=0\n",
        "X_FM_lb=[]\n",
        "for snr in range(-5, 46, 1):\n",
        "  X_FM_lb.append(X[idx:idx+100]) # Here we are using difference of 100\n",
        "  idx=idx+100\n",
        "\n",
        "print(len(X_FM_lb))\n",
        "\n",
        "\n",
        "for snr in range(-5, 46, 1):\n",
        "  y_snr = np.ones((X_FM_lb[snr].shape[0], 1))\n",
        "  scores = rnn_model.evaluate(X_FM_lb[snr+5], y_snr)\n",
        "  print(\"At SNR = \" + str(snr) + \"\\n%s: %.2f%%\" % (rnn_model.metrics_names[1], scores[1]*100))\n",
        "  pd_FM[snr] =(1- scores[1])/2\n",
        "\n",
        "print(scores)\n",
        "plt.plot(range(-5, 46, 1), list(pd_FM.values())) #setting the range of the BER\n",
        "\n",
        "\n",
        "# plt.yscale('log')\n",
        "# plt.xlabel('SNR Range')\n",
        "# plt.ylabel('BER')\n",
        "# plt.grid()\n",
        "# plt.legend(loc='upper right',ncol = 1)\n",
        "# plt.savefig('snip')\n",
        "# plt.show()\n",
        "\n",
        "\n",
        "# plt.plot(mymodel.history['accuracy'])\n",
        "plt.yscale('log')\n",
        "plt.xlabel('SNR Range')\n",
        "plt.ylabel('BER')\n",
        "plt.grid()\n",
        "plt.savefig('rnn_orig')\n",
        "plt.legend(loc='upper right',ncol = 1)\n",
        "plt.show()"
      ],
      "execution_count": 30,
      "outputs": [
        {
          "output_type": "stream",
          "text": [
            "51\n",
            "4/4 [==============================] - 0s 3ms/step - loss: 0.7344 - accuracy: 0.1500\n",
            "At SNR = -5\n",
            "accuracy: 15.00%\n",
            "4/4 [==============================] - 0s 3ms/step - loss: 0.7373 - accuracy: 0.1400\n",
            "At SNR = -4\n",
            "accuracy: 14.00%\n",
            "4/4 [==============================] - 0s 2ms/step - loss: 0.7137 - accuracy: 0.2200\n",
            "At SNR = -3\n",
            "accuracy: 22.00%\n",
            "4/4 [==============================] - 0s 2ms/step - loss: 0.7303 - accuracy: 0.1600\n",
            "At SNR = -2\n",
            "accuracy: 16.00%\n",
            "4/4 [==============================] - 0s 3ms/step - loss: 0.7025 - accuracy: 0.2600\n",
            "At SNR = -1\n",
            "accuracy: 26.00%\n",
            "4/4 [==============================] - 0s 3ms/step - loss: 0.6825 - accuracy: 0.3200\n",
            "At SNR = 0\n",
            "accuracy: 32.00%\n",
            "4/4 [==============================] - 0s 3ms/step - loss: 0.6473 - accuracy: 0.4400\n",
            "At SNR = 1\n",
            "accuracy: 44.00%\n",
            "4/4 [==============================] - 0s 3ms/step - loss: 0.6378 - accuracy: 0.4800\n",
            "At SNR = 2\n",
            "accuracy: 48.00%\n",
            "4/4 [==============================] - 0s 3ms/step - loss: 0.6365 - accuracy: 0.4800\n",
            "At SNR = 3\n",
            "accuracy: 48.00%\n",
            "4/4 [==============================] - 0s 3ms/step - loss: 0.6275 - accuracy: 0.5100\n",
            "At SNR = 4\n",
            "accuracy: 51.00%\n",
            "4/4 [==============================] - 0s 3ms/step - loss: 0.6000 - accuracy: 0.5900\n",
            "At SNR = 5\n",
            "accuracy: 59.00%\n",
            "4/4 [==============================] - 0s 2ms/step - loss: 0.5950 - accuracy: 0.6100\n",
            "At SNR = 6\n",
            "accuracy: 61.00%\n",
            "4/4 [==============================] - 0s 4ms/step - loss: 0.6028 - accuracy: 0.6000\n",
            "At SNR = 7\n",
            "accuracy: 60.00%\n",
            "4/4 [==============================] - 0s 3ms/step - loss: 0.5720 - accuracy: 0.7100\n",
            "At SNR = 8\n",
            "accuracy: 71.00%\n",
            "4/4 [==============================] - 0s 3ms/step - loss: 0.5778 - accuracy: 0.6900\n",
            "At SNR = 9\n",
            "accuracy: 69.00%\n",
            "4/4 [==============================] - 0s 3ms/step - loss: 0.5458 - accuracy: 0.8000\n",
            "At SNR = 10\n",
            "accuracy: 80.00%\n",
            "4/4 [==============================] - 0s 3ms/step - loss: 0.5693 - accuracy: 0.7100\n",
            "At SNR = 11\n",
            "accuracy: 71.00%\n",
            "4/4 [==============================] - 0s 3ms/step - loss: 0.5672 - accuracy: 0.7800\n",
            "At SNR = 12\n",
            "accuracy: 78.00%\n",
            "4/4 [==============================] - 0s 2ms/step - loss: 0.5267 - accuracy: 0.8600\n",
            "At SNR = 13\n",
            "accuracy: 86.00%\n",
            "4/4 [==============================] - 0s 3ms/step - loss: 0.5352 - accuracy: 0.8200\n",
            "At SNR = 14\n",
            "accuracy: 82.00%\n",
            "4/4 [==============================] - 0s 3ms/step - loss: 0.5773 - accuracy: 0.7700\n",
            "At SNR = 15\n",
            "accuracy: 77.00%\n",
            "4/4 [==============================] - 0s 3ms/step - loss: 0.5850 - accuracy: 0.6700\n",
            "At SNR = 16\n",
            "accuracy: 67.00%\n",
            "4/4 [==============================] - 0s 3ms/step - loss: 0.6177 - accuracy: 0.6200\n",
            "At SNR = 17\n",
            "accuracy: 62.00%\n",
            "4/4 [==============================] - 0s 4ms/step - loss: 0.6128 - accuracy: 0.6700\n",
            "At SNR = 18\n",
            "accuracy: 67.00%\n",
            "4/4 [==============================] - 0s 3ms/step - loss: 0.5600 - accuracy: 0.7900\n",
            "At SNR = 19\n",
            "accuracy: 79.00%\n",
            "4/4 [==============================] - 0s 2ms/step - loss: 0.5687 - accuracy: 0.7500\n",
            "At SNR = 20\n",
            "accuracy: 75.00%\n",
            "4/4 [==============================] - 0s 3ms/step - loss: 0.6261 - accuracy: 0.6700\n",
            "At SNR = 21\n",
            "accuracy: 67.00%\n",
            "4/4 [==============================] - 0s 3ms/step - loss: 0.6243 - accuracy: 0.6800\n",
            "At SNR = 22\n",
            "accuracy: 68.00%\n",
            "4/4 [==============================] - 0s 3ms/step - loss: 0.6430 - accuracy: 0.6500\n",
            "At SNR = 23\n",
            "accuracy: 65.00%\n",
            "4/4 [==============================] - 0s 3ms/step - loss: 0.6957 - accuracy: 0.5500\n",
            "At SNR = 24\n",
            "accuracy: 55.00%\n",
            "4/4 [==============================] - 0s 3ms/step - loss: 0.6560 - accuracy: 0.7500\n",
            "At SNR = 25\n",
            "accuracy: 75.00%\n",
            "4/4 [==============================] - 0s 3ms/step - loss: 0.7317 - accuracy: 0.7500\n",
            "At SNR = 26\n",
            "accuracy: 75.00%\n",
            "4/4 [==============================] - 0s 3ms/step - loss: 0.8522 - accuracy: 0.6600\n",
            "At SNR = 27\n",
            "accuracy: 66.00%\n",
            "4/4 [==============================] - 0s 3ms/step - loss: 0.8559 - accuracy: 0.7100\n",
            "At SNR = 28\n",
            "accuracy: 71.00%\n",
            "4/4 [==============================] - 0s 3ms/step - loss: 1.0426 - accuracy: 0.6800\n",
            "At SNR = 29\n",
            "accuracy: 68.00%\n",
            "4/4 [==============================] - 0s 3ms/step - loss: 1.0438 - accuracy: 0.6200\n",
            "At SNR = 30\n",
            "accuracy: 62.00%\n",
            "4/4 [==============================] - 0s 3ms/step - loss: 1.0289 - accuracy: 0.7100\n",
            "At SNR = 31\n",
            "accuracy: 71.00%\n",
            "4/4 [==============================] - 0s 3ms/step - loss: 1.0826 - accuracy: 0.6500\n",
            "At SNR = 32\n",
            "accuracy: 65.00%\n",
            "4/4 [==============================] - 0s 3ms/step - loss: 1.0838 - accuracy: 0.7200\n",
            "At SNR = 33\n",
            "accuracy: 72.00%\n",
            "4/4 [==============================] - 0s 6ms/step - loss: 0.6003 - accuracy: 0.8600\n",
            "At SNR = 34\n",
            "accuracy: 86.00%\n",
            "4/4 [==============================] - 0s 3ms/step - loss: 0.5957 - accuracy: 0.8700\n",
            "At SNR = 35\n",
            "accuracy: 87.00%\n",
            "4/4 [==============================] - 0s 3ms/step - loss: 0.6096 - accuracy: 0.8500\n",
            "At SNR = 36\n",
            "accuracy: 85.00%\n",
            "4/4 [==============================] - 0s 3ms/step - loss: 0.6171 - accuracy: 0.8800\n",
            "At SNR = 37\n",
            "accuracy: 88.00%\n",
            "4/4 [==============================] - 0s 4ms/step - loss: 0.6155 - accuracy: 0.8600\n",
            "At SNR = 38\n",
            "accuracy: 86.00%\n",
            "4/4 [==============================] - 0s 3ms/step - loss: 0.6014 - accuracy: 0.7900\n",
            "At SNR = 39\n",
            "accuracy: 79.00%\n",
            "4/4 [==============================] - 0s 4ms/step - loss: 0.6216 - accuracy: 0.7200\n",
            "At SNR = 40\n",
            "accuracy: 72.00%\n",
            "4/4 [==============================] - 0s 3ms/step - loss: 0.5984 - accuracy: 0.8400\n",
            "At SNR = 41\n",
            "accuracy: 84.00%\n",
            "4/4 [==============================] - 0s 3ms/step - loss: 0.5964 - accuracy: 0.8800\n",
            "At SNR = 42\n",
            "accuracy: 88.00%\n",
            "4/4 [==============================] - 0s 3ms/step - loss: 0.6116 - accuracy: 0.8100\n",
            "At SNR = 43\n",
            "accuracy: 81.00%\n",
            "4/4 [==============================] - 0s 3ms/step - loss: 0.6125 - accuracy: 0.7900\n",
            "At SNR = 44\n",
            "accuracy: 79.00%\n",
            "4/4 [==============================] - 0s 3ms/step - loss: 0.6123 - accuracy: 0.8200\n",
            "At SNR = 45\n",
            "accuracy: 82.00%\n",
            "[0.6122845411300659, 0.8199999928474426]\n"
          ],
          "name": "stdout"
        },
        {
          "output_type": "stream",
          "text": [
            "No handles with labels found to put in legend.\n"
          ],
          "name": "stderr"
        },
        {
          "output_type": "display_data",
          "data": {
            "image/png": "[encoded data removed]",
            "text/plain": [
              "<Figure size 432x288 with 1 Axes>"
            ]
          },
          "metadata": {
            "tags": [],
            "needs_background": "light"
          }
        }
      ]
    },
    {
      "cell_type": "code",
      "metadata": {
        "id": "CTeuex80GaPQ"
      },
      "source": [
        ""
      ],
      "execution_count": null,
      "outputs": []
    }
  ]
}